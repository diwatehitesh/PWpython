{
  "nbformat": 4,
  "nbformat_minor": 0,
  "metadata": {
    "colab": {
      "provenance": []
    },
    "kernelspec": {
      "name": "python3",
      "display_name": "Python 3"
    },
    "language_info": {
      "name": "python"
    }
  },
  "cells": [
    {
      "cell_type": "markdown",
      "source": [
        "1. What is the difference between a function and a method in Python?\n",
        "   - Function : It is standalone block which get define by \"def\" and it always get called directly.\n",
        "   e.q- print(), max() , len()\n",
        "     \n",
        "  - Method : It is also a function but who is bond with object.\n",
        "    e.q -  string.upper(),string.lower()\n",
        "\n",
        "\n",
        "  --  \n",
        "\n",
        "  \n",
        "\n",
        "2. Explain the concept of function arguments and parameters in Python.\n",
        "  - Parameters: Variables defined in the function signature.\n",
        "  - Arguments: Values passed to the function when called.\n",
        "\n",
        "  example: -\n",
        "             def sum(a,b):  --Parameters\n",
        "               return a+b\n",
        "\n",
        "             sum(a+b)   -- Arguments  \n",
        "\n",
        "\n",
        "  --\n",
        "\n",
        "\n",
        "\n",
        "3. What are the different ways to define and call a function in Python?\n",
        "  -      a)  User-define function   \n",
        "\n",
        "           \n",
        "           def sum(a,b):  --defining function\n",
        "               return a+b\n",
        "\n",
        "             sum(10,2)   -- calling function\n",
        "\n",
        "-          b) one line function\n",
        "\n",
        "\n",
        "         sum=lambda x,y:x+y  --defining function\n",
        "\n",
        "         sum( 10,2)    -- calling function   \n",
        "\n",
        "\n",
        " --\n",
        "\n",
        "\n",
        "\n",
        "4. What is the purpose of the `return` statement in a Python function?\n",
        "   - return statement will give output of all compute in one go and exists the function.\n",
        "\n",
        "\n",
        "\n",
        " --  \n",
        "\n",
        "\n",
        "5. What are iterators in Python and how do they differ from iterables?\n",
        "  -  iterators - It is object who iterates the iterables and produce one value for each iteratio using next().\n",
        "  -  iterables- it is object who is being get looped over.(list,tuple,string)\n",
        "\n",
        "\n",
        " --\n",
        "\n",
        "\n",
        "\n",
        "6. Explain the concept of generators in Python and how they are defined?\n",
        "   - Generators are special functions who provide a way to implement the iterator that yield values one at a time using yield.\n",
        "\n",
        "\n",
        "     def sqr(n):\n",
        "       for x in n:\n",
        "         yield x**2\n",
        "\n",
        "    hd=list(range(1,80))\n",
        "    hd_ob=sqr(hd)\n",
        "\n",
        "    for x in range(5): ------( printing first 5 outputs.)\n",
        "        print(next(hd_ob),end=\" \")\n",
        "\n",
        " --\n",
        "\n",
        "\n",
        "\n",
        "7. What are the advantages of using generators over regular functions?\n",
        "  - a) provide fast execution of computation or function.\n",
        "    b) save memory space\n",
        "    c) Simplify code for iterative tasks.\n",
        "\n",
        "\n",
        " --\n",
        "\n",
        "\n",
        "\n",
        "8. What is a lambda function in Python and when is it typically used?\n",
        "  - A one-line, anonymous function defined with lambda\n",
        "  - when you need a small, one-off, anonymous function for a short period. It eliminates the need to define a full function using def.\n",
        "\n",
        "\n",
        " --\n",
        "\n",
        "\n",
        "9. Explain the purpose and usage of the `map()` function in Python.\n",
        "  - its provide function execution for each data element in Iterable\n",
        "\n",
        "\n",
        " --\n",
        "\n",
        "\n",
        "\n",
        "10. What is the difference between `map()`, `reduce()`, and `filter()` functions in Python?\n",
        "  - map(): Transforms data elements in an iterable.\n",
        "  - filter(): Filters data elements in iterables based on a condition.\n",
        "  - reduce(): Reduces an data elements in iterable to a single value (from functools module).\n",
        "  \n",
        "\n",
        "  --\n",
        "  \n",
        "\n",
        "\n",
        " 11. Using pen & Paper write the internal mechanism for sum operation using  reduce function on this given - list:[47,11,42,13];   \n",
        "   -    \n",
        "     \n",
        "     \n",
        "     from functools import  reduce\n",
        "\n",
        "     hd=[1,2,3,4]\n",
        "     reduce(lambda x,y: x+y, hd)\n",
        "\n",
        "     output = 10\n",
        "\n",
        "     explaination:\n",
        "                   1,2,3,4\n",
        "              first 2 data elements in list can be assiged x,y     \n",
        "              step 1 = x=1,y=2 so x+y = 3\n",
        "              now updated value of addition is get assign x, so x=3\n",
        "              step 2 = x=3 , y=3 so x+y= 6\n",
        "              now updated value of addition is get assign x, so x=6\n",
        "              step 3 = x=6 , y=4 so x+y= 10\n",
        "\n",
        "              so output = 10\n",
        "\n",
        "\n",
        "               \n",
        "            \n",
        "\n",
        "\n",
        "      \n",
        "  "
      ],
      "metadata": {
        "id": "KmPADBNdtMpF"
      }
    },
    {
      "cell_type": "code",
      "execution_count": 1,
      "metadata": {
        "colab": {
          "base_uri": "https://localhost:8080/"
        },
        "id": "UsMIrC1pXzCx",
        "outputId": "a100ddd8-998e-40d0-df34-be53b9c01f81"
      },
      "outputs": [
        {
          "output_type": "stream",
          "name": "stdout",
          "text": [
            "given list: \n",
            " [4, 5, 6, 12, 13, 8, 99]\n",
            "after function call sum of all even numbers in the list \n",
            " 30\n"
          ]
        }
      ],
      "source": [
        "# 1. Write a Python function that takes a list of numbers as input and returns the sum of all even numbers in the list.\n",
        "\n",
        "\n",
        "def even(n):\n",
        "\n",
        "  sum_even=0\n",
        "  for num in n:\n",
        "    if num % 2 == 0:\n",
        "      sum_even+=num\n",
        "\n",
        "  return sum_even\n",
        "\n",
        "number=[4,5,6,12,13,8,99]\n",
        "\n",
        "print(\"given list: \\n\",number)\n",
        "print(\"after function call sum of all even numbers in the list \\n\",even(number))\n",
        "\n",
        "\n"
      ]
    },
    {
      "cell_type": "code",
      "source": [
        "# 2. Create a Python function that accepts a string and returns the reverse of that string.\n",
        "\n",
        "def str_rev(sentence):\n",
        "  return sentence[::-1]\n",
        "\n",
        "para=input(\"\\nenter your sentense: \")\n",
        "print(\"given:  \",para)\n",
        "print()\n",
        "print(\"rev:  \",str_rev(para))"
      ],
      "metadata": {
        "colab": {
          "base_uri": "https://localhost:8080/"
        },
        "id": "9JPfKLiiX_Q5",
        "outputId": "161a5c36-3658-44d2-e76d-5dd355e51012"
      },
      "execution_count": 2,
      "outputs": [
        {
          "output_type": "stream",
          "name": "stdout",
          "text": [
            "\n",
            "enter your sentense: Hello I am Hitesh\n",
            "given:   Hello I am Hitesh\n",
            "\n",
            "rev:   hsetiH ma I olleH\n"
          ]
        }
      ]
    },
    {
      "cell_type": "code",
      "source": [
        "# 3. Implement a Python function that takes a list of integers and returns a new list containing the squares of each number.\n",
        "\n",
        "def lst_sqr(n):\n",
        "  sqr_lst=[]\n",
        "  for x in n:\n",
        "    if type(x) == int:\n",
        "      sqr_lst.append(x*x)\n",
        "\n",
        "  return sqr_lst\n",
        "\n",
        "\n",
        "\n",
        "hd_list=[10,2,4,6,98,\"hitesh\",3+6j,True,5,8]\n",
        "print(\"Provided list: \\n\",hd_list)\n",
        "print(\"square of int element in provided list: \\n\",lst_sqr(hd_list))\n",
        "\n"
      ],
      "metadata": {
        "colab": {
          "base_uri": "https://localhost:8080/"
        },
        "id": "whYvhQqPYCZx",
        "outputId": "9b1032c8-f400-4ccc-9445-fcf0ae7a02a7"
      },
      "execution_count": 3,
      "outputs": [
        {
          "output_type": "stream",
          "name": "stdout",
          "text": [
            "Provided list: \n",
            " [10, 2, 4, 6, 98, 'hitesh', (3+6j), True, 5, 8]\n",
            "square of int element in provided list: \n",
            " [100, 4, 16, 36, 9604, 25, 64]\n"
          ]
        }
      ]
    },
    {
      "cell_type": "code",
      "source": [
        "# 4. Write a Python function that checks if a given number is prime or not from 1 to 200.\n",
        "\n",
        "def prime(n):\n",
        "  prime=[]\n",
        "\n",
        "  \"\"\" numbers less than 1 are not prime that means prime numbers are always be greater than 1 \"\"\"\n",
        "  for x in range(n+1):\n",
        "      if x > 1:\n",
        "        flag=0\n",
        "        for y in range(2,(x//2)+1):\n",
        "             if x%y==0:\n",
        "                flag=1\n",
        "                break\n",
        "        if flag==0:\n",
        "          prime.append(x)\n",
        "\n",
        "\n",
        "  return prime\n",
        "\n",
        "num=int(input(\"enter the number till that you wanna get prime number: \"))\n",
        "\n",
        "print(f\"prime numbers till {num} are: \\n\",prime(num))\n",
        "print(f\"count of prime numbers till {num} are: \\n\", len(prime(num)))\n"
      ],
      "metadata": {
        "colab": {
          "base_uri": "https://localhost:8080/"
        },
        "id": "qgAI1DHlYdx4",
        "outputId": "13415d08-b210-48c5-e612-45bb3545c8cf"
      },
      "execution_count": 5,
      "outputs": [
        {
          "output_type": "stream",
          "name": "stdout",
          "text": [
            "enter the number till that you wanna get prime number: 200\n",
            "prime numbers till 200 are: \n",
            " [2, 3, 5, 7, 11, 13, 17, 19, 23, 29, 31, 37, 41, 43, 47, 53, 59, 61, 67, 71, 73, 79, 83, 89, 97, 101, 103, 107, 109, 113, 127, 131, 137, 139, 149, 151, 157, 163, 167, 173, 179, 181, 191, 193, 197, 199]\n",
            "count of prime numbers till 200 are: \n",
            " 46\n"
          ]
        }
      ]
    },
    {
      "cell_type": "code",
      "source": [
        "# 5. Create an iterator class in Python that generates the Fibonacci sequence up to a specified number of terms.\n",
        "\n",
        "# Using iterator (Genrator)\n",
        "\n",
        "def fibonachi(num):\n",
        "  a,b=0,1\n",
        "  for x in num:\n",
        "    yield a\n",
        "    a,b =b,a+b\n",
        "\n",
        "\n",
        "\n",
        "\n",
        "num=int(input(\"enter your number: \"))\n",
        "\n",
        "hd=fibonachi(list(range(num)))\n",
        "\n",
        "for x in range(num):\n",
        "  print(next(hd),end=\" \")\n",
        "\n"
      ],
      "metadata": {
        "colab": {
          "base_uri": "https://localhost:8080/"
        },
        "id": "AtS1_NByY06J",
        "outputId": "ec531336-f853-4236-e770-5d5a2face933"
      },
      "execution_count": 1,
      "outputs": [
        {
          "output_type": "stream",
          "name": "stdout",
          "text": [
            "enter your number: 10\n",
            "0 1 1 2 3 5 8 13 21 34 "
          ]
        }
      ]
    },
    {
      "cell_type": "code",
      "source": [
        "# 5. Create an iterator class in Python that generates the Fibonacci sequence up to a specified number of terms.\n",
        "\n",
        "# Using iterator class\n",
        "class iterator:\n",
        "  def fibonachi(self,num):\n",
        "    self.a,self.b=0,1\n",
        "    for x in num:\n",
        "      yield self.a\n",
        "      self.a,self.b =self.b,self.a+self.b\n",
        "\n",
        "\n",
        "\n",
        "\n",
        "\n",
        "\n",
        "num=int(input(\"enter your number: \"))\n",
        "ob=iterator()\n",
        "hd=ob.fibonachi(list(range(num)))\n",
        "\n",
        "for x in range(num):\n",
        "  print(next(hd),end=\" \")\n",
        "\n"
      ],
      "metadata": {
        "colab": {
          "base_uri": "https://localhost:8080/"
        },
        "id": "BIcetQfMgJfA",
        "outputId": "7665d19b-5b17-456f-decd-d59f2605adbe"
      },
      "execution_count": 2,
      "outputs": [
        {
          "output_type": "stream",
          "name": "stdout",
          "text": [
            "enter your number: 10\n",
            "0 1 1 2 3 5 8 13 21 34 "
          ]
        }
      ]
    },
    {
      "cell_type": "code",
      "source": [
        "# 6. Write a generator function in Python that yields the powers of 2 up to a given exponent.\n",
        "\n",
        "def power_of_2(num):\n",
        "  for x in num:\n",
        "    yield 2**x\n",
        "\n",
        "\n",
        "user_input=int(input(\"enter your number: \"))\n",
        "\n",
        "#hd= power_of_2(list(range(user_input+1)))\n",
        "\n",
        "for hd in power_of_2(list(range(user_input+1))):\n",
        "  print(hd)\n",
        "\n"
      ],
      "metadata": {
        "colab": {
          "base_uri": "https://localhost:8080/"
        },
        "id": "b5RtxSqlY30s",
        "outputId": "41ba9127-27d7-4504-ce29-60cdad2ca190"
      },
      "execution_count": 50,
      "outputs": [
        {
          "output_type": "stream",
          "name": "stdout",
          "text": [
            "enter your number: 10\n",
            "1\n",
            "2\n",
            "4\n",
            "8\n",
            "16\n",
            "32\n",
            "64\n",
            "128\n",
            "256\n",
            "512\n",
            "1024\n"
          ]
        }
      ]
    },
    {
      "cell_type": "code",
      "source": [
        "# 6. Write a generator function in Python that yields the powers of 2 up to a given exponent.\n",
        "# (if means to take square a element upto given exponent)\n",
        "\n",
        "def power_of_2(num):\n",
        "  for x in num:\n",
        "    yield x**2\n",
        "\n",
        "\n",
        "user_input=int(input(\"enter your number: \"))\n",
        "user_list=list(range(user_input+1))\n",
        "hd= power_of_2(user_list)\n",
        "\n",
        "for x in range(len(user_list)):\n",
        "  print(next(hd))\n",
        "\n"
      ],
      "metadata": {
        "colab": {
          "base_uri": "https://localhost:8080/"
        },
        "id": "B2dXRWodhMNy",
        "outputId": "4f767ad0-e5fb-45d3-b1ac-f05363f28a23"
      },
      "execution_count": 14,
      "outputs": [
        {
          "output_type": "stream",
          "name": "stdout",
          "text": [
            "enter your number: 10\n",
            "0\n",
            "1\n",
            "4\n",
            "9\n",
            "16\n",
            "25\n",
            "36\n",
            "49\n",
            "64\n",
            "81\n",
            "100\n"
          ]
        }
      ]
    },
    {
      "cell_type": "code",
      "source": [
        "\n",
        "#7. Implement a generator function that reads a file line by line and yields each line as a string.\n",
        "\n",
        "\n",
        "\n",
        "def file_demo(a):\n",
        "  with open(a, \"r\") as file:\n",
        "    for line in file:\n",
        "        yield str(line.strip())\n",
        "\n",
        "\n",
        "\n",
        "\n",
        "from google.colab import files\n",
        "uploaded = files.upload()\n",
        "\n",
        "\n",
        "for hd in file_demo(\"demo.txt\"):\n",
        "  print(hd)\n",
        "\n",
        "\n",
        "\n",
        "\n",
        "\n",
        "\n",
        "\n",
        "\n",
        "\n",
        "\n",
        "\n"
      ],
      "metadata": {
        "colab": {
          "base_uri": "https://localhost:8080/",
          "height": 183
        },
        "id": "f9pqcqvDh6H9",
        "outputId": "58b8fbce-9aec-49a5-caa6-15704ab3ef21"
      },
      "execution_count": 49,
      "outputs": [
        {
          "output_type": "display_data",
          "data": {
            "text/plain": [
              "<IPython.core.display.HTML object>"
            ],
            "text/html": [
              "\n",
              "     <input type=\"file\" id=\"files-37fd41be-3897-4980-8cc8-014e068c0b55\" name=\"files[]\" multiple disabled\n",
              "        style=\"border:none\" />\n",
              "     <output id=\"result-37fd41be-3897-4980-8cc8-014e068c0b55\">\n",
              "      Upload widget is only available when the cell has been executed in the\n",
              "      current browser session. Please rerun this cell to enable.\n",
              "      </output>\n",
              "      <script>// Copyright 2017 Google LLC\n",
              "//\n",
              "// Licensed under the Apache License, Version 2.0 (the \"License\");\n",
              "// you may not use this file except in compliance with the License.\n",
              "// You may obtain a copy of the License at\n",
              "//\n",
              "//      http://www.apache.org/licenses/LICENSE-2.0\n",
              "//\n",
              "// Unless required by applicable law or agreed to in writing, software\n",
              "// distributed under the License is distributed on an \"AS IS\" BASIS,\n",
              "// WITHOUT WARRANTIES OR CONDITIONS OF ANY KIND, either express or implied.\n",
              "// See the License for the specific language governing permissions and\n",
              "// limitations under the License.\n",
              "\n",
              "/**\n",
              " * @fileoverview Helpers for google.colab Python module.\n",
              " */\n",
              "(function(scope) {\n",
              "function span(text, styleAttributes = {}) {\n",
              "  const element = document.createElement('span');\n",
              "  element.textContent = text;\n",
              "  for (const key of Object.keys(styleAttributes)) {\n",
              "    element.style[key] = styleAttributes[key];\n",
              "  }\n",
              "  return element;\n",
              "}\n",
              "\n",
              "// Max number of bytes which will be uploaded at a time.\n",
              "const MAX_PAYLOAD_SIZE = 100 * 1024;\n",
              "\n",
              "function _uploadFiles(inputId, outputId) {\n",
              "  const steps = uploadFilesStep(inputId, outputId);\n",
              "  const outputElement = document.getElementById(outputId);\n",
              "  // Cache steps on the outputElement to make it available for the next call\n",
              "  // to uploadFilesContinue from Python.\n",
              "  outputElement.steps = steps;\n",
              "\n",
              "  return _uploadFilesContinue(outputId);\n",
              "}\n",
              "\n",
              "// This is roughly an async generator (not supported in the browser yet),\n",
              "// where there are multiple asynchronous steps and the Python side is going\n",
              "// to poll for completion of each step.\n",
              "// This uses a Promise to block the python side on completion of each step,\n",
              "// then passes the result of the previous step as the input to the next step.\n",
              "function _uploadFilesContinue(outputId) {\n",
              "  const outputElement = document.getElementById(outputId);\n",
              "  const steps = outputElement.steps;\n",
              "\n",
              "  const next = steps.next(outputElement.lastPromiseValue);\n",
              "  return Promise.resolve(next.value.promise).then((value) => {\n",
              "    // Cache the last promise value to make it available to the next\n",
              "    // step of the generator.\n",
              "    outputElement.lastPromiseValue = value;\n",
              "    return next.value.response;\n",
              "  });\n",
              "}\n",
              "\n",
              "/**\n",
              " * Generator function which is called between each async step of the upload\n",
              " * process.\n",
              " * @param {string} inputId Element ID of the input file picker element.\n",
              " * @param {string} outputId Element ID of the output display.\n",
              " * @return {!Iterable<!Object>} Iterable of next steps.\n",
              " */\n",
              "function* uploadFilesStep(inputId, outputId) {\n",
              "  const inputElement = document.getElementById(inputId);\n",
              "  inputElement.disabled = false;\n",
              "\n",
              "  const outputElement = document.getElementById(outputId);\n",
              "  outputElement.innerHTML = '';\n",
              "\n",
              "  const pickedPromise = new Promise((resolve) => {\n",
              "    inputElement.addEventListener('change', (e) => {\n",
              "      resolve(e.target.files);\n",
              "    });\n",
              "  });\n",
              "\n",
              "  const cancel = document.createElement('button');\n",
              "  inputElement.parentElement.appendChild(cancel);\n",
              "  cancel.textContent = 'Cancel upload';\n",
              "  const cancelPromise = new Promise((resolve) => {\n",
              "    cancel.onclick = () => {\n",
              "      resolve(null);\n",
              "    };\n",
              "  });\n",
              "\n",
              "  // Wait for the user to pick the files.\n",
              "  const files = yield {\n",
              "    promise: Promise.race([pickedPromise, cancelPromise]),\n",
              "    response: {\n",
              "      action: 'starting',\n",
              "    }\n",
              "  };\n",
              "\n",
              "  cancel.remove();\n",
              "\n",
              "  // Disable the input element since further picks are not allowed.\n",
              "  inputElement.disabled = true;\n",
              "\n",
              "  if (!files) {\n",
              "    return {\n",
              "      response: {\n",
              "        action: 'complete',\n",
              "      }\n",
              "    };\n",
              "  }\n",
              "\n",
              "  for (const file of files) {\n",
              "    const li = document.createElement('li');\n",
              "    li.append(span(file.name, {fontWeight: 'bold'}));\n",
              "    li.append(span(\n",
              "        `(${file.type || 'n/a'}) - ${file.size} bytes, ` +\n",
              "        `last modified: ${\n",
              "            file.lastModifiedDate ? file.lastModifiedDate.toLocaleDateString() :\n",
              "                                    'n/a'} - `));\n",
              "    const percent = span('0% done');\n",
              "    li.appendChild(percent);\n",
              "\n",
              "    outputElement.appendChild(li);\n",
              "\n",
              "    const fileDataPromise = new Promise((resolve) => {\n",
              "      const reader = new FileReader();\n",
              "      reader.onload = (e) => {\n",
              "        resolve(e.target.result);\n",
              "      };\n",
              "      reader.readAsArrayBuffer(file);\n",
              "    });\n",
              "    // Wait for the data to be ready.\n",
              "    let fileData = yield {\n",
              "      promise: fileDataPromise,\n",
              "      response: {\n",
              "        action: 'continue',\n",
              "      }\n",
              "    };\n",
              "\n",
              "    // Use a chunked sending to avoid message size limits. See b/62115660.\n",
              "    let position = 0;\n",
              "    do {\n",
              "      const length = Math.min(fileData.byteLength - position, MAX_PAYLOAD_SIZE);\n",
              "      const chunk = new Uint8Array(fileData, position, length);\n",
              "      position += length;\n",
              "\n",
              "      const base64 = btoa(String.fromCharCode.apply(null, chunk));\n",
              "      yield {\n",
              "        response: {\n",
              "          action: 'append',\n",
              "          file: file.name,\n",
              "          data: base64,\n",
              "        },\n",
              "      };\n",
              "\n",
              "      let percentDone = fileData.byteLength === 0 ?\n",
              "          100 :\n",
              "          Math.round((position / fileData.byteLength) * 100);\n",
              "      percent.textContent = `${percentDone}% done`;\n",
              "\n",
              "    } while (position < fileData.byteLength);\n",
              "  }\n",
              "\n",
              "  // All done.\n",
              "  yield {\n",
              "    response: {\n",
              "      action: 'complete',\n",
              "    }\n",
              "  };\n",
              "}\n",
              "\n",
              "scope.google = scope.google || {};\n",
              "scope.google.colab = scope.google.colab || {};\n",
              "scope.google.colab._files = {\n",
              "  _uploadFiles,\n",
              "  _uploadFilesContinue,\n",
              "};\n",
              "})(self);\n",
              "</script> "
            ]
          },
          "metadata": {}
        },
        {
          "output_type": "stream",
          "name": "stdout",
          "text": [
            "Saving demo.txt to demo (16).txt\n",
            "I am Hitesh\n",
            "I am from pune\n",
            "I fond of playing football\n",
            "your great\n",
            "7972353145\n",
            "True True\n"
          ]
        }
      ]
    },
    {
      "cell_type": "code",
      "source": [
        "\n",
        "#7. Implement a generator function that reads a file line by line and yields each line as a string.\n",
        "\n",
        "from google.colab import files\n",
        "uploaded = files.upload()\n",
        "\n",
        "\n",
        "with open(\"demo.txt\", \"r\") as file:\n",
        "    for line in file:\n",
        "        print(line.strip())\n",
        "\n",
        "\n",
        "\n",
        "\n",
        "\n",
        "\n",
        "\n"
      ],
      "metadata": {
        "id": "alGOO5FHiKx1"
      },
      "execution_count": null,
      "outputs": []
    },
    {
      "cell_type": "code",
      "source": [
        "from typing_extensions import TypeVarTuple\n",
        "# 8. Use a lambda function in Python to sort a list of tuples based on the second element of each tuple.\n",
        "\n",
        "\n",
        "\n",
        "tuples_list = [(1, 3), (4, 1), (2, 2), (5, 0)]\n",
        "\n",
        "sorted_list = sorted(tuples_list, key=lambda x: x[1])\n",
        "print(\"provided input: \\n\",tuples_list)\n",
        "print(\"sorted based on 2nd element: \\n\",sorted_list)\n"
      ],
      "metadata": {
        "colab": {
          "base_uri": "https://localhost:8080/"
        },
        "id": "mGNgNhuJido0",
        "outputId": "59ecd357-35a7-4cca-c2dd-15b21480221c"
      },
      "execution_count": 3,
      "outputs": [
        {
          "output_type": "stream",
          "name": "stdout",
          "text": [
            "provided input: \n",
            " [(1, 3), (4, 1), (2, 2), (5, 0)]\n",
            "sorted based on 2nd element: \n",
            " [(5, 0), (4, 1), (2, 2), (1, 3)]\n"
          ]
        }
      ]
    },
    {
      "cell_type": "code",
      "source": [
        "# 9. Write a Python program that uses `map()` to convert a list of temperatures from Celsius to Fahrenheit.\n",
        "\n",
        "temp=[23,40,23,45,67]\n",
        "print(\"Temprature in Celsius: \\n\",temp)\n",
        "\n",
        "hd=list(map(lambda x: (x*9/5)+32,temp))\n",
        "print(\"Temprature in Fahrenheit: \\n\",hd)"
      ],
      "metadata": {
        "colab": {
          "base_uri": "https://localhost:8080/"
        },
        "id": "GkjGDwE1jFBc",
        "outputId": "d05cba94-a4a9-4ebb-91c3-683a5c6ff269"
      },
      "execution_count": 18,
      "outputs": [
        {
          "output_type": "stream",
          "name": "stdout",
          "text": [
            "Temprature in Celsius: \n",
            " [23, 40, 23, 45, 67]\n",
            "Temprature in Fahrenheit: \n",
            " [73.4, 104.0, 73.4, 113.0, 152.6]\n"
          ]
        }
      ]
    },
    {
      "cell_type": "code",
      "source": [
        "# 10. Create a Python program that uses `filter()` to remove all the vowels from a given string.\n",
        "\n",
        "#1st way\n",
        "\n",
        "def remove_vowel(char):\n",
        "  if char not in \"AEIOUaeiou\":\n",
        "    return char\n",
        "\n",
        "print(\"1st way\\n\")\n",
        "input_str=input(\"enter your string: \")\n",
        "\n",
        "hd=list(filter(remove_vowel,input_str))\n",
        "print(hd)\n",
        "\n",
        "\n",
        "\n",
        "#2nd way\n",
        "\n",
        "print(\"\\n 2nd way\\n\")\n",
        "input_str=input(\"enter your string: \")\n",
        "\n",
        "hd=list(filter(lambda x: x not in \"AEIOUaeiou\", input_str))\n",
        "print(hd)"
      ],
      "metadata": {
        "colab": {
          "base_uri": "https://localhost:8080/"
        },
        "id": "9MjKBqMmjE-v",
        "outputId": "7e4622af-e8c9-46f3-f5b3-b8369d8bcd81"
      },
      "execution_count": 6,
      "outputs": [
        {
          "output_type": "stream",
          "name": "stdout",
          "text": [
            "1st way\n",
            "\n",
            "enter your string: hello i am jack\n",
            "['h', 'l', 'l', ' ', ' ', 'm', ' ', 'j', 'c', 'k']\n",
            "\n",
            " 2nd way\n",
            "\n",
            "enter your string: hello i am jack\n",
            "['h', 'l', 'l', ' ', ' ', 'm', ' ', 'j', 'c', 'k']\n"
          ]
        }
      ]
    },
    {
      "cell_type": "code",
      "source": [
        "\n",
        "#  Imagine an accounting routine used in a book shop. It works on a list with sublists, which look like this:\n",
        "\n",
        "# order_number  book title and author      quantity       price per item\n",
        "#     23         data mode, h b sharma       4                    30.5\n",
        "#     34         python, v.k patil           3                    40.35\n",
        "#     45         english , m .v javed              4                    20.5\n",
        "#     22         java ,h.c varma             3                    30.0\n",
        "\n",
        "\n",
        "# Write a Python program, which returns a list with 2-tuples. Each tuple consists of the order number and the\n",
        "# product of the price per item and the quantity. The product should be increased by 10,- € if the value of the\n",
        "# order is smaller than 100,00 €.\n",
        "\n",
        "# Write a Python program using lambda and map.\n",
        "\n",
        "\n",
        "orders=[\n",
        "       [23 ,\"data mode, h b sharma\", 4,30.5],\n",
        "       [34 ,\" python, v.k patil \",4, 40.00 ],\n",
        "       [45 ,\"english , m .v javed \", 4 , 20.5 ],\n",
        "       [22,\"java ,h.c varma \",3,30.0]\n",
        "       ]\n",
        "\n",
        "billing=list(map(lambda x: (x[0],x[2]*x[3]+(10 if x[2]*x[3] < 100 else 0)),orders))\n",
        "\n",
        "print(billing)\n"
      ],
      "metadata": {
        "colab": {
          "base_uri": "https://localhost:8080/"
        },
        "id": "MFzHsfzVmd1S",
        "outputId": "c7e9040b-62cf-4a3e-9fa4-6c579b375127"
      },
      "execution_count": 12,
      "outputs": [
        {
          "output_type": "stream",
          "name": "stdout",
          "text": [
            "[(23, 122.0), (34, 160.0), (45, 92.0), (22, 100.0)]\n"
          ]
        }
      ]
    }
  ]
}