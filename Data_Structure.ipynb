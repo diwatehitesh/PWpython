{
  "nbformat": 4,
  "nbformat_minor": 0,
  "metadata": {
    "colab": {
      "provenance": []
    },
    "kernelspec": {
      "name": "python3",
      "display_name": "Python 3"
    },
    "language_info": {
      "name": "python"
    }
  },
  "cells": [
    {
      "cell_type": "markdown",
      "source": [
        "1. What are data structures, and why are they important?\n",
        "   - Data structures organize and store data efficiently, helping solve problems faster and more effectively.it will ultimetly help us to deal with the data with more ease.\n",
        "\n",
        "--\n",
        "\n",
        "2. Explain the difference between mutable and immutable data types with examples.\n",
        "\n",
        "   - Mutable: tends to be changed after its creation ,\n",
        "     e.g., list: x = [1, 2]; x[0] = 3.\n",
        "\n",
        "     Immutable: tends not to be changed after its creation,\n",
        "     e.g., tuple: x = (1, 2); x[0] = 3 → Error.\n",
        "\n",
        "--\n",
        "\n",
        "3. What are the main differences between lists and tuples in Python?\n",
        "   - Lists: Mutable, slower,Its comes under hashable type,represent by [ ].\n",
        "   - Tuples: Immutable, faster,Its comes under Unhashable type,represent by ( ).\n",
        "\n",
        "--\n",
        "\n",
        "4. Describe how dictionaries store data ?\n",
        "   - Dictionaries Stored a data in the form of key:value pair in hash table for quick look-up,\n",
        "     key must be unique and values can be repeated\n",
        "\n",
        "--\n",
        "\n",
        "5. Why might you use a set instead of a list in Python?\n",
        "   - To remove duplicates and set is faster than list.\n",
        "\n",
        "--\n",
        "\n",
        "6. What is a string in Python, and how is it different from a list?\n",
        "   - A string is an immutable sequence of characters, while a list is mutable and can hold any data type.\n",
        "\n",
        "--\n",
        "\n",
        "7. How do tuples ensure data integrity in Python?\n",
        "   - Their immutability prevents unintended modifications, ensuring consistency.\n",
        "\n",
        "--\n",
        "\n",
        "8. What is a hash table, and how does it relate to dictionaries in Python?\n",
        "   - A hash table maps keys to values, enabling dictionaries to perform fast lookups.\n",
        "\n",
        "--\n",
        "\n",
        "9. Can lists contain different data types in Python?\n",
        "   - Yes, e.g., HD=[1, \"apple\", 3.14].\n",
        "\n",
        "--\n",
        "\n",
        "10. Explain why strings are immutable in Python.\n",
        "   - Immutability ensures memory efficiency, security, and thread-safety.\n",
        "\n",
        "--\n",
        "\n",
        "11. What advantages do dictionaries offer over lists for certain tasks?\n",
        "   - Faster lookups, clear key-value relationships, and no need for sequential searching.\n",
        "\n",
        "--\n",
        "\n",
        "12. Describe a scenario where using a tuple would be preferable over a list.\n",
        "   - Storing constants like GPS coordinates (latitude, longitude) , Storing bank passbook number.\n",
        "\n",
        "--\n",
        "\n",
        "13. How do sets handle duplicate values in Python?\n",
        "   - Sets automatically discard or removes duplicates.\n",
        "\n",
        "--\n",
        "\n",
        "14. How does the “in” keyword work differently for lists and dictionaries?\n",
        "    - Lists: Checks for a value.\n",
        "      Dictionaries: Checks for a key.\n",
        "\n",
        "--\n",
        "\n",
        "15. Can you modify the elements of a tuple? Explain why or why not.\n",
        "    - No, tuples are immutable, so their elements cannot be changed.\n",
        "\n",
        " --\n",
        "\n",
        "16. What is a nested dictionary, and give an example of its use case?\n",
        "   - A dictionary within another dictionary.\n",
        "\n",
        "\n",
        "     Example:(storing user information)\n",
        "      User_Infomation= { \"user1\": {\"name\": \"Alice\", \"age\": 30}, \"user2\": {\"name\": \"Bob\", \"age\": 25}}.\n",
        "\n",
        "--\n",
        "\n",
        "17. Describe the time complexity of accessing elements in a dictionary.\n",
        "    - Accessing elements has an average time complexity of O(1).\n",
        "\n",
        "--\n",
        "\n",
        "\n",
        "18. In what situations are lists preferred over dictionaries?\n",
        "   - When order matters or when storing simple sequential data.\n",
        "\n",
        "--\n",
        "\n",
        "19. Why are dictionaries considered unordered, and how does that affect data retrieval?\n",
        "    - 1) Dictionaries (before Python 3.7) don't guarantee insertion order; retrieval depends on keys, not position.\n",
        "\n",
        "     2) also like in 'list' we can retrive a data with its Index position\n",
        "     e,g - hd[3][2]\n",
        "     But in 'dictionary' we need have to put its exact key names\n",
        "     e,g - hd[user1][job]\n",
        "         \n",
        "\n",
        "--\n",
        "\n",
        "\n",
        "20. Explain the difference between a list and a dictionary in terms of data retrieval.\n",
        "    - List: Retrieve based on index , lookup is slower.\n",
        "\n",
        "      Dictionary: Retrieve based on key , lookup is faster."
      ],
      "metadata": {
        "id": "Lh9WMfXFkr6I"
      }
    },
    {
      "cell_type": "code",
      "source": [
        "# 1) Write a code to create a string with your name and print it .\n",
        "\n",
        "Name=input (\"Enter your name: \")\n",
        "\n",
        "print(\"I am: \",Name)\n",
        "print(type(Name))\n"
      ],
      "metadata": {
        "colab": {
          "base_uri": "https://localhost:8080/"
        },
        "id": "k8D7wQNGkv_n",
        "outputId": "63d9da28-8bca-40f5-9613-cb0344efd31d"
      },
      "execution_count": 2,
      "outputs": [
        {
          "output_type": "stream",
          "name": "stdout",
          "text": [
            "Enter your name: Hitesh Diwate\n",
            "I am:  Hitesh Diwate\n",
            "<class 'str'>\n"
          ]
        }
      ]
    },
    {
      "cell_type": "code",
      "source": [
        "# 2) Write a code to find the length of the string \"Hello World\" .\n",
        "\n",
        "print(len(\"Hello World\"))\n"
      ],
      "metadata": {
        "colab": {
          "base_uri": "https://localhost:8080/"
        },
        "id": "8pYFMObQNx-p",
        "outputId": "1e7fe7dd-495a-406f-d006-f2f2e2b9a988"
      },
      "execution_count": 6,
      "outputs": [
        {
          "output_type": "stream",
          "name": "stdout",
          "text": [
            "11\n"
          ]
        }
      ]
    },
    {
      "cell_type": "code",
      "source": [
        "# 3) Write a code to slice the first 3 characters from the string \"Python Programming\" .\n",
        "\n",
        "Course=\"Python Programming\"\n",
        "\n",
        "print(Course[:3])\n"
      ],
      "metadata": {
        "colab": {
          "base_uri": "https://localhost:8080/"
        },
        "id": "JZw00ksJN0Ou",
        "outputId": "b5f95a26-e275-457b-da81-2756a4d83ea9"
      },
      "execution_count": 5,
      "outputs": [
        {
          "output_type": "stream",
          "name": "stdout",
          "text": [
            "Pyt\n"
          ]
        }
      ]
    },
    {
      "cell_type": "code",
      "source": [
        "# 4) Write a code to convert the string \"hello\" to uppercase .\n",
        "\n",
        "Str=\"hello\"\n",
        "print(Str.upper())\n"
      ],
      "metadata": {
        "colab": {
          "base_uri": "https://localhost:8080/"
        },
        "id": "K_A7_CkZN2-z",
        "outputId": "faa9f776-e164-44b1-fb18-042d5b9a0eaf"
      },
      "execution_count": 7,
      "outputs": [
        {
          "output_type": "stream",
          "name": "stdout",
          "text": [
            "HELLO\n"
          ]
        }
      ]
    },
    {
      "cell_type": "code",
      "source": [
        "# 5) Write a code to replace the word \"apple\" with \"orange\" in the string \"I like apple\".\n",
        "\n",
        "Sentence = \"I like apple\"\n",
        "print(\"before:  \",Sentence)\n",
        "\n",
        "new_Setence=Sentence.replace(\"apple\",\"orange\")\n",
        "print(\"after: \",new_Setence)\n",
        "\n",
        "\n"
      ],
      "metadata": {
        "colab": {
          "base_uri": "https://localhost:8080/"
        },
        "id": "7LWHflafN47K",
        "outputId": "22e157e1-b6f9-477e-c4ed-1a7cc54cc8dd"
      },
      "execution_count": 18,
      "outputs": [
        {
          "output_type": "stream",
          "name": "stdout",
          "text": [
            "before:   I like apple\n",
            "after:  I like orange\n"
          ]
        }
      ]
    },
    {
      "cell_type": "code",
      "source": [
        "# 6) Write a code to create a list with numbers 1 to 5 and print it .\n",
        "\n",
        "number=list(range(1,6))\n",
        "print(number)\n"
      ],
      "metadata": {
        "colab": {
          "base_uri": "https://localhost:8080/"
        },
        "id": "tl0psp0yN4-A",
        "outputId": "96954c42-57b9-408d-8b70-e36f17032589"
      },
      "execution_count": 23,
      "outputs": [
        {
          "output_type": "stream",
          "name": "stdout",
          "text": [
            "[1, 2, 3, 4, 5]\n"
          ]
        }
      ]
    },
    {
      "cell_type": "code",
      "source": [
        "# 7) Write a code to append the number 10 to the list [1, 2, 3, 4] .\n",
        "\n",
        "number=[1, 2, 3, 4]\n",
        "number.append(10)\n",
        "print(number)\n"
      ],
      "metadata": {
        "colab": {
          "base_uri": "https://localhost:8080/"
        },
        "id": "zYvprNc7N984",
        "outputId": "fa493eab-a359-46eb-9019-70a88b8cb7e1"
      },
      "execution_count": 26,
      "outputs": [
        {
          "output_type": "stream",
          "name": "stdout",
          "text": [
            "[1, 2, 3, 4, 10]\n"
          ]
        }
      ]
    },
    {
      "cell_type": "code",
      "source": [
        "# 8) Write a code to remove the number 3 from the list [1, 2, 3, 4, 5] .\n",
        "\n",
        "number= [1, 2, 3, 4, 5]\n",
        "print(\"before_removing: \",number)\n",
        "number.remove(3)\n",
        "print(\"after_removing: \",number)\n"
      ],
      "metadata": {
        "colab": {
          "base_uri": "https://localhost:8080/"
        },
        "id": "vQm8oifyN9-B",
        "outputId": "1ec1b6be-d4ee-4e8e-c5d2-5d5faa69e6ab"
      },
      "execution_count": 28,
      "outputs": [
        {
          "output_type": "stream",
          "name": "stdout",
          "text": [
            "before_removing:  [1, 2, 3, 4, 5]\n",
            "after_removing:  [1, 2, 4, 5]\n"
          ]
        }
      ]
    },
    {
      "cell_type": "code",
      "source": [
        "# 9) Write a code to access the second element in the list ['a', 'b', 'c', 'd'] .\n",
        "\n",
        "char=['a', 'b', 'c', 'd']\n",
        "char[1]\n"
      ],
      "metadata": {
        "colab": {
          "base_uri": "https://localhost:8080/",
          "height": 35
        },
        "id": "MpzfaEbXN-B5",
        "outputId": "95683121-713c-4194-9b22-9442bc8c79d2"
      },
      "execution_count": 30,
      "outputs": [
        {
          "output_type": "execute_result",
          "data": {
            "text/plain": [
              "'b'"
            ],
            "application/vnd.google.colaboratory.intrinsic+json": {
              "type": "string"
            }
          },
          "metadata": {},
          "execution_count": 30
        }
      ]
    },
    {
      "cell_type": "code",
      "source": [
        "# 10) Write a code to reverse the list [10, 20, 30, 40, 50].\n",
        "\n",
        "print(\"1st way\")\n",
        "number=[10, 20, 30, 40, 50]\n",
        "print(number)\n",
        "print(\"Reverse: \")\n",
        "print(sorted(number,reverse=True))\n",
        "\n",
        "\n",
        "print(\"\\n2nd way\")\n",
        "number=[10, 20, 30, 40, 50]\n",
        "print(number)\n",
        "print(\"Reverse: \")\n",
        "print(number[::-1])"
      ],
      "metadata": {
        "colab": {
          "base_uri": "https://localhost:8080/"
        },
        "id": "8cNv6ifiOSBp",
        "outputId": "5f98c85f-446f-43d2-dc4f-3f2528e0c2b1"
      },
      "execution_count": 37,
      "outputs": [
        {
          "output_type": "stream",
          "name": "stdout",
          "text": [
            "1st way\n",
            "[10, 20, 30, 40, 50]\n",
            "Reverse: \n",
            "[50, 40, 30, 20, 10]\n",
            "\n",
            "2nd way\n",
            "[10, 20, 30, 40, 50]\n",
            "Reverse: \n",
            "[50, 40, 30, 20, 10]\n"
          ]
        }
      ]
    },
    {
      "cell_type": "code",
      "source": [
        "# 11. Write a code to create a tuple with the elements 10, 20, 30 and print it.\n",
        "\n",
        "number_tuple=(10,20,30)\n",
        "print(number_tuple)\n",
        "print(type(number_tuple))"
      ],
      "metadata": {
        "colab": {
          "base_uri": "https://localhost:8080/"
        },
        "id": "mOE6B9C_N-1W",
        "outputId": "6ab1821c-2859-4670-850a-ad4d52d01208"
      },
      "execution_count": 56,
      "outputs": [
        {
          "output_type": "stream",
          "name": "stdout",
          "text": [
            "(10, 20, 30)\n",
            "<class 'tuple'>\n"
          ]
        }
      ]
    },
    {
      "cell_type": "code",
      "source": [
        "# 12. Write a code to access the first element of the tuple ('apple', 'banana', 'cherry').\n",
        "\n",
        "Fruits=('apple', 'banana', 'cherry')\n",
        "Fruits[0]\n"
      ],
      "metadata": {
        "colab": {
          "base_uri": "https://localhost:8080/",
          "height": 35
        },
        "id": "kFKJg0Z_UfMt",
        "outputId": "2cc8d279-3325-43a8-9192-0f931b463434"
      },
      "execution_count": 41,
      "outputs": [
        {
          "output_type": "execute_result",
          "data": {
            "text/plain": [
              "'apple'"
            ],
            "application/vnd.google.colaboratory.intrinsic+json": {
              "type": "string"
            }
          },
          "metadata": {},
          "execution_count": 41
        }
      ]
    },
    {
      "cell_type": "code",
      "source": [
        "# 13. Write a code to count how many times the number 2 appears in the tuple (1, 2, 3, 2, 4, 2).\n",
        "\n",
        "number=(1, 2, 3, 2, 4, 2)\n",
        "print(\"repetation of 2 is: \",number.count(2))"
      ],
      "metadata": {
        "colab": {
          "base_uri": "https://localhost:8080/"
        },
        "id": "pHw88ViIUfN8",
        "outputId": "4c2c3ca0-a04f-435a-b746-f15614bfb1a2"
      },
      "execution_count": 48,
      "outputs": [
        {
          "output_type": "stream",
          "name": "stdout",
          "text": [
            "repetation of 2 is:  3\n"
          ]
        }
      ]
    },
    {
      "cell_type": "code",
      "source": [
        "# 14. Write a code to find the index of the element \"cat\" in the tuple ('dog', 'cat', 'rabbit').\n",
        "\n",
        "pets=('dog', 'cat', 'rabbit')\n",
        "print(\"Index of 'cat' is : \",pets.index(\"cat\"))\n"
      ],
      "metadata": {
        "colab": {
          "base_uri": "https://localhost:8080/"
        },
        "id": "8kZw3zWrUfR1",
        "outputId": "83a474c0-3f79-4f9b-b4a1-a8ad4181ad81"
      },
      "execution_count": 47,
      "outputs": [
        {
          "output_type": "stream",
          "name": "stdout",
          "text": [
            "Index of 'cat' is :  1\n"
          ]
        }
      ]
    },
    {
      "cell_type": "code",
      "source": [
        "# 15. Write a code to check if the element \"banana\" is in the tuple ('apple', 'orange', 'banana').\n",
        "\n",
        "fruits=('apple', 'orange', 'banana')\n",
        "\n",
        "if \"banana\" in fruits:\n",
        "  print(\"banana is present in Fruit tuple\")\n",
        "else:\n",
        "  print(\"It is not present in Fruit tuple\")"
      ],
      "metadata": {
        "colab": {
          "base_uri": "https://localhost:8080/"
        },
        "id": "pwhGH6YaUfSx",
        "outputId": "6d42d096-5d2d-4797-a2e7-8ee1627f6592"
      },
      "execution_count": 6,
      "outputs": [
        {
          "output_type": "stream",
          "name": "stdout",
          "text": [
            "banana is present in Fruit tuple\n"
          ]
        }
      ]
    },
    {
      "cell_type": "code",
      "source": [
        "# 16. Write a code to create a set with the elements 1, 2, 3, 4, 5 and print it.\n",
        "\n",
        "number_set={1, 2, 3, 4, 5}\n",
        "print(number_set)\n",
        "print(type(number_set))\n"
      ],
      "metadata": {
        "colab": {
          "base_uri": "https://localhost:8080/"
        },
        "id": "9cgPe8mSUfWo",
        "outputId": "a75c48f3-c0b8-4285-d045-8f31f646af5e"
      },
      "execution_count": 53,
      "outputs": [
        {
          "output_type": "stream",
          "name": "stdout",
          "text": [
            "{1, 2, 3, 4, 5}\n",
            "<class 'set'>\n"
          ]
        }
      ]
    },
    {
      "cell_type": "code",
      "source": [
        "# 17. Write a code to add the element 6 to the set {1, 2, 3, 4}.\n",
        "\n",
        "number_set={1, 2, 3, 4}\n",
        "print(\"before adding: \\n\",number_set)\n",
        "number_set.add(6)\n",
        "print(\"after adding: \\n\",number_set)"
      ],
      "metadata": {
        "colab": {
          "base_uri": "https://localhost:8080/"
        },
        "id": "ajbgkJYJUfrN",
        "outputId": "be9db771-943b-4b74-a914-c2594f85c5fc"
      },
      "execution_count": 54,
      "outputs": [
        {
          "output_type": "stream",
          "name": "stdout",
          "text": [
            "before adding: \n",
            " {1, 2, 3, 4}\n",
            "after adding: \n",
            " {1, 2, 3, 4, 6}\n"
          ]
        }
      ]
    },
    {
      "cell_type": "code",
      "source": [
        "# 18. Write a code to create a tuple with the elements 10, 20, 30 and print it.\n",
        "number_tuple=(10,20,30)\n",
        "print(number_tuple)\n",
        "print(type(number_tuple))"
      ],
      "metadata": {
        "colab": {
          "base_uri": "https://localhost:8080/"
        },
        "id": "vmWkgw4bUfuG",
        "outputId": "f1e25f83-0a22-47fa-c76e-bcb01dac7e1c"
      },
      "execution_count": 55,
      "outputs": [
        {
          "output_type": "stream",
          "name": "stdout",
          "text": [
            "(10, 20, 30)\n",
            "<class 'tuple'>\n"
          ]
        }
      ]
    },
    {
      "cell_type": "code",
      "source": [
        "# 19. Write a code to access the first element of the tuple ('apple', 'banana', 'cherry').\n",
        "\n",
        "fruit_tuple= ('apple', 'banana', 'cherry')\n",
        "print(fruit_tuple[0])\n",
        "\n"
      ],
      "metadata": {
        "colab": {
          "base_uri": "https://localhost:8080/"
        },
        "id": "owVmXApzUf-3",
        "outputId": "45545eda-cb1d-4b8e-9639-d865f8d54e50"
      },
      "execution_count": 57,
      "outputs": [
        {
          "output_type": "stream",
          "name": "stdout",
          "text": [
            "apple\n"
          ]
        }
      ]
    },
    {
      "cell_type": "code",
      "source": [
        "# 20. Write a code to count how many times the number 2 appears in the tuple (1, 2, 3, 2, 4, 2).\n",
        "\n",
        "number_tuple=(1, 2, 3, 2, 4, 2)\n",
        "print(\"Count of 2 is: \",number_tuple.count(2))"
      ],
      "metadata": {
        "colab": {
          "base_uri": "https://localhost:8080/"
        },
        "id": "WzesKVPBYACk",
        "outputId": "84de4ef0-4acf-4fbc-af1d-2db961d8b881"
      },
      "execution_count": 58,
      "outputs": [
        {
          "output_type": "stream",
          "name": "stdout",
          "text": [
            "Count of 2 is:  3\n"
          ]
        }
      ]
    },
    {
      "cell_type": "code",
      "source": [
        "# 21. Write a code to find the index of the element \"cat\" in the tuple ('dog', 'cat', 'rabbit').\n",
        "\n",
        "pets= ('dog', 'cat', 'rabbit')\n",
        "print(\"\"\"index of the element \"cat\" in the pets is: \"\"\",pets.index(\"cat\" ))\n"
      ],
      "metadata": {
        "colab": {
          "base_uri": "https://localhost:8080/"
        },
        "id": "j2liMMQhYFzx",
        "outputId": "3d2dfdd1-7eff-40cc-d6df-9d5023552d5f"
      },
      "execution_count": 60,
      "outputs": [
        {
          "output_type": "stream",
          "name": "stdout",
          "text": [
            "index of the element \"cat\" in the pets is:  1\n"
          ]
        }
      ]
    },
    {
      "cell_type": "code",
      "source": [
        "# 22. Write a code to check if the element \"banana\" is in the tuple ('apple', 'orange', 'banana').\n",
        "\n",
        "Fruits= ('apple', 'orange', 'banana')\n",
        "if \"banana\" in Fruits:\n",
        "  print(\"It is there in Fruits\")\n",
        "else:\n",
        "  print(\"It is not there in Fruits\")"
      ],
      "metadata": {
        "colab": {
          "base_uri": "https://localhost:8080/"
        },
        "id": "ASJnTTMiYAD5",
        "outputId": "86dff00f-4c54-4a2c-bce0-4ef83b9f80de"
      },
      "execution_count": 61,
      "outputs": [
        {
          "output_type": "stream",
          "name": "stdout",
          "text": [
            "It is there in Fruits\n"
          ]
        }
      ]
    },
    {
      "cell_type": "code",
      "source": [
        "# 23. Write a code to create a set with the elements 1, 2, 3, 4, 5 and print it.\n",
        "\n",
        "number={1, 2, 3, 4, 5}\n",
        "print(number)\n",
        "print(type(number))"
      ],
      "metadata": {
        "colab": {
          "base_uri": "https://localhost:8080/"
        },
        "id": "COcNgpKkYAG3",
        "outputId": "3866fc9b-8342-469a-add4-58e9bd4f47d3"
      },
      "execution_count": 62,
      "outputs": [
        {
          "output_type": "stream",
          "name": "stdout",
          "text": [
            "{1, 2, 3, 4, 5}\n",
            "<class 'set'>\n"
          ]
        }
      ]
    },
    {
      "cell_type": "code",
      "source": [
        "# 24. Write a code to add the element 6 to the set {1, 2, 3, 4}.\n",
        "\n",
        "number= {1, 2, 3, 4}\n",
        "print(\"before adding element: \",number)\n",
        "number.add(6)\n",
        "print(\"after adding element: \",number)"
      ],
      "metadata": {
        "colab": {
          "base_uri": "https://localhost:8080/"
        },
        "id": "IEZ6gAEWYAJu",
        "outputId": "90406a66-545b-4507-90c8-8114e197b3cf"
      },
      "execution_count": 63,
      "outputs": [
        {
          "output_type": "stream",
          "name": "stdout",
          "text": [
            "before adding element:  {1, 2, 3, 4}\n",
            "after adding element:  {1, 2, 3, 4, 6}\n"
          ]
        }
      ]
    }
  ]
}