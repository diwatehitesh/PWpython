{
  "nbformat": 4,
  "nbformat_minor": 0,
  "metadata": {
    "colab": {
      "provenance": []
    },
    "kernelspec": {
      "name": "python3",
      "display_name": "Python 3"
    },
    "language_info": {
      "name": "python"
    }
  },
  "cells": [
    {
      "cell_type": "markdown",
      "source": [
        "1) What is Object-Oriented Programming (OOP)?\n",
        "   - OOP is a programming paradigm based on concepts like classes, objects, inheritance, polymorphism, and encapsulation which hekp to model real-world entities and their behaviors.\n",
        "\n",
        "2) What is a class in OOP?\n",
        "   - A class is a blueprint for creating objects, also collection of objects\n",
        "   - class has data Member amd member function.  \n",
        "\n",
        "3) What is an object in OOP?\n",
        "   - An object is an instance of a class .\n",
        "   - Object has State and behaviour.\n",
        "\n",
        "4) What is the difference between abstraction and encapsulation?\n",
        "\n",
        "   - Abstraction hides implementation details and shows only functionality.\n",
        "   -  Encapsulation bundles data and methods, restricting direct access to internal details.\n",
        "\n",
        "\n",
        "5) Explain the concept of inheritance in OOP.\n",
        "   - Inheritance allows a class (child) to acquire properties and behaviors of another class (parent), enabling code reuse.\n",
        "\n",
        "6) What is polymorphism in OOP?\n",
        "   - it is combination of poly-many and morphism - forms i.e manyforms\n",
        "     so means using one thing for different purposes.\n",
        "   - Polymorphism allows methods or functions to operate differently based on the object or data type.\n",
        "\n",
        "7) How is encapsulation achieved in Python?\n",
        "   - By using private and protected attributes (prefixing names with(protected)-> _  or (private)-> __ ) and providing getter/setter methods.\n",
        "\n",
        "8) What is a constructor in Python?\n",
        "   - A constructor (__init__) initializes data member and member function of class .\n",
        "   - it executed automatically once object is created.\n",
        "\n",
        "9) What are class and static methods in Python?\n",
        "\n",
        "   - Class methods (@classmethod) operate on the class and use cls as the first parameter.\n",
        "   - Static methods (@staticmethod) are independent of class or instance and don't use self or cls.\n",
        "\n",
        "10) What is method overloading in Python?\n",
        "  - method overloading basically happpen within class where we are having 2 or more methods with same name but different parameters.\n",
        "  - Python doesn't support traditional method overloading.\n",
        "\n",
        "11) What is method overriding in OOP?\n",
        "   - method overriding basically happpen within inheritance where we are having  methods with same name and same parameters in both classes.\n",
        "   - In method overriding the methode of child class gets priority over methode in parent class.\n",
        "   \n",
        "\n",
        "12) What is a property decorator in Python?\n",
        "  - The @property decorator allows a method to be accessed like an attribute, providing controlled access.\n",
        "\n",
        "13) Why is polymorphism important in OOP?\n",
        "  - It simplifies code by allowing objects of different classes to be treated uniformly and provide reusability.\n",
        "\n",
        "14) What is an abstract class in Python?\n",
        "  - Abstraction can be achieved by using abstract class.\n",
        "  - An abstract class defines methods that must be implemented in derived classes, enforced using @abstractmethod.\n",
        "\n",
        "15) What are the advantages of OOP?\n",
        "  - Code reuse, modularity, scalability, maintainability, and ease of understanding complex systems.\n",
        "\n",
        "16) What is the difference between a class variable and an instance variable?\n",
        "\n",
        "  - Class variable is Shared by all instances of a class.\n",
        "  - Instance variable is Unique to each object.\n",
        "\n",
        "17) What is multiple inheritance in Python?\n",
        "    - A class inherits from more than one parent class, combining their properties and behaviors.\n",
        "\n",
        "18) Explain the purpose of __str__ and __repr__ methods in Python.\n",
        "\n",
        "   - __str__: Returns a readable, user-friendly string representation of the object.(__str__)\n",
        "   -  __repr__: Returns an unambiguous, developer-friendly representation.(__repr__)\n",
        "\n",
        "19) What is the significance of the super() function in Python?\n",
        "  - super() allows a subclass to call methods from its parent class, ensuring proper inheritance and method resolution.\n",
        "\n",
        "20) What is the significance of the __del__ method in Python?\n",
        "   - The __del__ method is called when an object is deleted, allowing cleanup of resources.\n",
        "\n",
        "21) What is the difference between @staticmethod and @classmethod in Python?\n",
        "\n",
        "   - @staticmethod: Doesn't depend on class or instance.\n",
        "   -  @classmethod: Operates on the class itself, using cls.\n",
        "\n",
        "\n",
        "22) How does polymorphism work in Python with inheritance?\n",
        "  - Polymorphism allows methods in subclasses to override parent methods, enabling dynamic behavior based on the object type.\n",
        "\n",
        "23) What is method chaining in Python OOP?\n",
        "   - Method chaining calls multiple methods on an object in a single line by returning self from each method.\n",
        "\n",
        "24) What is the purpose of the __call__ method in Python?\n",
        "   - The __call__ method makes an object callable like a function, defining its behavior when invoked.\n",
        "\n",
        "25) What are dunder methods in Python?\n",
        "  - dunder,special and magical methods are the methods which are defined by the built-in classes in python.\n",
        "  - Dunder (double underscore) methods, like __init__, __str__, and __add__, provide special functionality and allow customization of object behavior.\n"
      ],
      "metadata": {
        "id": "XYE47-mMZ_az"
      }
    },
    {
      "cell_type": "code",
      "execution_count": 4,
      "metadata": {
        "colab": {
          "base_uri": "https://localhost:8080/"
        },
        "id": "GZJ63OJya5Ek",
        "outputId": "13362cba-69a5-4dc8-87bc-081545f6da82"
      },
      "outputs": [
        {
          "output_type": "stream",
          "name": "stdout",
          "text": [
            "Child class object calling Override methode\n",
            "Bark!\n",
            "\n",
            "Parent class object calling its methode\n",
            "Hello\n"
          ]
        }
      ],
      "source": [
        "# 1. Create a parent class Animal with a method speak() that prints a generic message. Create a child class Dog\n",
        "# that overrides the speak() method to print \"Bark!\".\n",
        "\n",
        "\n",
        "\n",
        "class Animal:\n",
        "  def speak(self):\n",
        "    print(\"Hello\")\n",
        "\n",
        "class Dog(Animal):\n",
        "  def speak(self):\n",
        "    print(\"Bark!\")\n",
        "\n",
        "\n",
        "d1=Dog()\n",
        "print(\"Child class object calling Override methode\")\n",
        "d1.speak()\n",
        "\n",
        "d2=Animal()\n",
        "print(\"\\nParent class object calling its methode\")\n",
        "d2.speak()\n"
      ]
    },
    {
      "cell_type": "code",
      "source": [
        "# 2. Write a program to create an abstract class Shape with a method area(). Derive classes Circle and Rectangle\n",
        "# from it and implement the area() method in both.\n",
        "\n",
        "import abc as a\n",
        "class  Shape:\n",
        "  @a.abstractmethod\n",
        "  def area(self):\n",
        "    pass\n",
        "\n",
        "\n",
        "class Circle(Shape):\n",
        "  def area(self):\n",
        "    radius=int(input(\"enter the radius: \"))\n",
        "    print(\"Area of circle is: \",3.14*radius**2)\n",
        "\n",
        "class Rectangle(Shape):\n",
        "  def area(self,l,b):\n",
        "    print(\"Area of circle is: \",l*b)\n",
        "\n",
        "\n",
        "c1=Circle()\n",
        "c1.area()\n",
        "\n",
        "c1=Rectangle()\n",
        "c1.area(5,2)\n",
        "\n",
        ""
      ],
      "metadata": {
        "colab": {
          "base_uri": "https://localhost:8080/"
        },
        "id": "UmjF7shia8vB",
        "outputId": "0f41d55f-130d-4389-8a87-8031ac094c7c"
      },
      "execution_count": 2,
      "outputs": [
        {
          "output_type": "stream",
          "name": "stdout",
          "text": [
            "enter the radius: 5\n",
            "Area of circle is:  78.5\n",
            "Area of circle is:  10\n"
          ]
        }
      ]
    },
    {
      "cell_type": "code",
      "source": [
        "# 3. Implement a multi-level inheritance scenario where a class Vehicle has an attribute type. Derive a class Car\n",
        "# and further derive a class ElectricCar that adds a battery attribute.\n",
        "\n",
        "class Vehicle:\n",
        "  def Grandparent(self,type):\n",
        "    self.type=type\n",
        "    print(\"Vehicale type: \",self.type)\n",
        "\n",
        "class Car(Vehicle):\n",
        "  def parent(self,car_type):\n",
        "    self.care_type=car_type\n",
        "    print(\"car_type: \",self.care_type)\n",
        "\n",
        "class ElectricCar(Car):\n",
        "  def child(self,battery):\n",
        "    self.battery=battery\n",
        "    print(\"Battery_power: \",self.battery,\" km\")\n",
        "\n",
        "\n",
        "print(\"child class accessing both parent and grandparent methods\")\n",
        "e=ElectricCar()\n",
        "e.child(50000)\n",
        "e.parent(\"SUV\")\n",
        "e.Grandparent(\"4 wheeler\")\n",
        "\n",
        "print(\"\\nparent class accessing  grandparent methods\")\n",
        "c=Car()\n",
        "c.parent(\"SUV\")\n",
        "c.Grandparent(\"4 wheeler\")\n",
        "\n",
        "print(\"\\ngrandparent class accessing its own methods\")\n",
        "v=Vehicle()\n",
        "v.Grandparent(\"4 wheeler\")"
      ],
      "metadata": {
        "colab": {
          "base_uri": "https://localhost:8080/"
        },
        "id": "nRgaI9LQbK52",
        "outputId": "98c3d775-8def-49f7-dbef-c309421eb828"
      },
      "execution_count": 4,
      "outputs": [
        {
          "output_type": "stream",
          "name": "stdout",
          "text": [
            "child class accessing both parent and grandparent methods\n",
            "Battery_power:  50000  km\n",
            "car_type:  SUV\n",
            "Vehicale type:  4 wheeler\n",
            "\n",
            "parent class accessing  grandparent methods\n",
            "car_type:  SUV\n",
            "Vehicale type:  4 wheeler\n",
            "\n",
            "grandparent class accessing its own methods\n",
            "Vehicale type:  4 wheeler\n"
          ]
        }
      ]
    },
    {
      "cell_type": "code",
      "source": [
        "# 4. Implement a multi-level inheritance scenario where a class Vehicle has an attribute type. Derive a class Car\n",
        "# and further derive a class ElectricCar that adds a battery attribute.\n",
        "\n",
        "# 3. Implement a multi-level inheritance scenario where a class Vehicle has an attribute type. Derive a class Car\n",
        "# and further derive a class ElectricCar that adds a battery attribute.\n",
        "\n",
        "class Vehicle:\n",
        "  def Grandparent(self,type):\n",
        "    self.type=type\n",
        "    print(\"Vehicale type: \",self.type)\n",
        "\n",
        "class Car(Vehicle):\n",
        "  def parent(self,car_type):\n",
        "    self.care_type=car_type\n",
        "    print(\"car_type: \",self.care_type)\n",
        "\n",
        "class ElectricCar(Car):\n",
        "  def child(self,battery):\n",
        "    self.battery=battery\n",
        "    print(\"Battery_power: \",self.battery,\" km\")\n",
        "\n",
        "\n",
        "print(\"child class accessing both parent and grandparent methods\")\n",
        "e=ElectricCar()\n",
        "e.child(50000)\n",
        "e.parent(\"SUV\")\n",
        "e.Grandparent(\"4 wheeler\")\n",
        "\n",
        "print(\"\\nparent class accessing  grandparent methods\")\n",
        "c=Car()\n",
        "c.parent(\"SUV\")\n",
        "c.Grandparent(\"4 wheeler\")\n",
        "\n",
        "print(\"\\ngrandparent class accessing its own methods\")\n",
        "v=Vehicle()\n",
        "v.Grandparent(\"4 wheeler\")\n"
      ],
      "metadata": {
        "colab": {
          "base_uri": "https://localhost:8080/"
        },
        "id": "3Q_KBaiHbK7l",
        "outputId": "1b1582fb-b0ce-487c-cb2d-a9c72e351521"
      },
      "execution_count": 5,
      "outputs": [
        {
          "output_type": "stream",
          "name": "stdout",
          "text": [
            "child class accessing both parent and grandparent methods\n",
            "Battery_power:  50000  km\n",
            "car_type:  SUV\n",
            "Vehicale type:  4 wheeler\n",
            "\n",
            "parent class accessing  grandparent methods\n",
            "car_type:  SUV\n",
            "Vehicale type:  4 wheeler\n",
            "\n",
            "grandparent class accessing its own methods\n",
            "Vehicale type:  4 wheeler\n"
          ]
        }
      ]
    },
    {
      "cell_type": "code",
      "source": [
        "# 5. Write a program to demonstrate encapsulation by creating a class BankAccount with private attributes\n",
        "# balance and methods to deposit, withdraw, and check balance.\n",
        "\n",
        "\n",
        "class BankAccount:\n",
        "  def __init__(self):\n",
        "    self.__balance=0\n",
        "\n",
        "  def Deposite(self):\n",
        "    amount=int(input(\"enter the amount to be deposited: \"))\n",
        "    self.amount=amount\n",
        "    if self.amount > 0:\n",
        "      self.__balance+=  self.amount\n",
        "    else:\n",
        "      print(\"Enter valid amount as it should be > 0\")\n",
        "\n",
        "  def Withdraw(self):\n",
        "    amount=int(input(\"enter the amount to be Withdraw: \"))\n",
        "    self.amount=amount\n",
        "    if self.amount < self.__balance:\n",
        "      self.__balance-=  self.amount\n",
        "    else:\n",
        "      print(\"Insufficient Balance\")\n",
        "\n",
        "  def Balance(self):\n",
        "    print(\"Balance is: \",self.__balance)\n",
        "\n",
        "\n",
        "print(\"\\nCustomer_1\")\n",
        "customer1=BankAccount()\n",
        "customer1.Balance()\n",
        "print(\"After deposite\")\n",
        "customer1.Deposite()\n",
        "customer1.Balance()\n",
        "print(\"After Withdraw\")\n",
        "customer1.Withdraw()\n",
        "customer1.Balance()\n",
        "\n",
        "print(\"------------------------------------------------\")\n",
        "\n",
        "print(\"\\nCustomer_2\")\n",
        "customer2=BankAccount()\n",
        "customer2.Balance()\n",
        "print(\"After deposite\")\n",
        "customer2.Deposite()\n",
        "customer2.Balance()\n",
        "print(\"After Withdraw\")\n",
        "customer2.Withdraw()\n",
        "customer2.Balance()\n",
        "\n",
        "\n",
        "\n"
      ],
      "metadata": {
        "colab": {
          "base_uri": "https://localhost:8080/"
        },
        "id": "qO77YJPwbK_V",
        "outputId": "a9a5d88a-048a-4edd-c9f2-5363f7beab19"
      },
      "execution_count": 16,
      "outputs": [
        {
          "output_type": "stream",
          "name": "stdout",
          "text": [
            "\n",
            "Customer_1\n",
            "Balance is:  0\n",
            "After deposite\n",
            "enter the amount to be deposited: 25000\n",
            "Balance is:  25000\n",
            "After Withdraw\n",
            "enter the amount to be Withdraw: 5000\n",
            "Balance is:  20000\n",
            "------------------------------------------------\n",
            "\n",
            "Customer_2\n",
            "Balance is:  0\n",
            "After deposite\n",
            "enter the amount to be deposited: 28000\n",
            "Balance is:  28000\n",
            "After Withdraw\n",
            "enter the amount to be Withdraw: 30000\n",
            "Insufficient Balance\n",
            "Balance is:  28000\n"
          ]
        }
      ]
    },
    {
      "cell_type": "code",
      "source": [
        "# 6. Demonstrate runtime polymorphism using a method play() in a base class Instrument. Derive classes Guitar\n",
        "# and Piano that implement their own version of play().\n",
        "\n",
        "class Instrument:\n",
        "  def play(self):\n",
        "    print(\"you can play any instrument\")\n",
        "\n",
        "class Guiter(Instrument):\n",
        "  def play(self):\n",
        "    print(\"playing Guiter\")\n",
        "\n",
        "class Piano(Instrument):\n",
        "  def play(self):\n",
        "    print(\"playing piano\")\n",
        "\n",
        "def play_instrument(ins):\n",
        "  return ins.play()\n",
        "\n",
        "\n",
        "g1=Guiter()\n",
        "p1=Piano()\n",
        "\n",
        "play_instrument(g1)\n",
        "play_instrument(p1)"
      ],
      "metadata": {
        "colab": {
          "base_uri": "https://localhost:8080/"
        },
        "id": "pn88wsgDbLBH",
        "outputId": "2963a849-e453-44e8-831f-ad2799ed42f6"
      },
      "execution_count": 17,
      "outputs": [
        {
          "output_type": "stream",
          "name": "stdout",
          "text": [
            "playing Guiter\n",
            "playing piano\n"
          ]
        }
      ]
    },
    {
      "cell_type": "code",
      "source": [
        "# 7. Create a class MathOperations with a class method add_numbers() to add two numbers and a static\n",
        "# method subtract_numbers() to subtract two numbers.\n",
        "\n",
        "class MathOperations:\n",
        "  @classmethod\n",
        "  def add_numbers(cls,x,y):\n",
        "    return x+y\n",
        "\n",
        "  @staticmethod\n",
        "  def  subtract_numbers(x,y):\n",
        "    return x-y\n",
        "\n",
        "\n",
        "a=int(input(\"Enter your 1st no: \"))\n",
        "b=int(input(\"Enter your 2nd no: \"))\n",
        "\n",
        "result=MathOperations.add_numbers(a,b)\n",
        "print(\"addition is: \",result)\n",
        "\n",
        "print(\"substraction is: \",MathOperations.subtract_numbers(a,b))\n",
        "\n",
        "\n"
      ],
      "metadata": {
        "colab": {
          "base_uri": "https://localhost:8080/"
        },
        "id": "bVt4q3UFbLEo",
        "outputId": "7a663887-d7e2-4aee-d9be-2f53296912bc"
      },
      "execution_count": 26,
      "outputs": [
        {
          "output_type": "stream",
          "name": "stdout",
          "text": [
            "Enter your 1st no: 18\n",
            "Enter your 2nd no: 12\n",
            "addition is:  30\n",
            "substraction is:  6\n"
          ]
        }
      ]
    },
    {
      "cell_type": "code",
      "source": [
        "# 8. Implement a class Person with a class method to count the total number of persons created.\n",
        "\n",
        "class Person:\n",
        "\n",
        "\n",
        "  user=0\n",
        "\n",
        "  def __init__(self):\n",
        "    Person.user+=1\n",
        "\n",
        "  @classmethod\n",
        "  def count(cls):\n",
        "    return cls.user\n",
        "\n",
        "\n",
        "p1=Person()\n",
        "p2=Person()\n",
        "p3=Person()\n",
        "\n",
        "print(\"Count of person: \",Person.count())\n",
        ""
      ],
      "metadata": {
        "colab": {
          "base_uri": "https://localhost:8080/"
        },
        "id": "uAgzZSp_bLHY",
        "outputId": "c40360f9-8422-44d4-fbe2-eba7df67fddb"
      },
      "execution_count": 30,
      "outputs": [
        {
          "output_type": "stream",
          "name": "stdout",
          "text": [
            "Count od person:  3\n"
          ]
        }
      ]
    },
    {
      "cell_type": "code",
      "source": [
        "# 9. Write a class Fraction with attributes numerator and denominator. Override the str method to display the\n",
        "# fraction as \"numerator/denominator\".\n",
        "\n",
        "class Fraction:\n",
        "  def __init__(self):\n",
        "    self.numerator=int(input(\"Enter the value of numerator: \"))\n",
        "    self.denominator=int(input(\"Enter the value of denominator: \"))\n",
        "\n",
        "  def __str__(self):\n",
        "    return f\"{self.numerator}/{self.denominator}\"\n",
        "\n",
        "\n",
        "f1=Fraction()\n",
        "f2=Fraction()\n",
        "print(\"\\nFraction1: \",f1)\n",
        "print(\"Fraction2: \",f2)"
      ],
      "metadata": {
        "colab": {
          "base_uri": "https://localhost:8080/"
        },
        "id": "RPUSuMaibLeF",
        "outputId": "c286abe5-9b2d-439e-d48e-976b8977dcd5"
      },
      "execution_count": 12,
      "outputs": [
        {
          "output_type": "stream",
          "name": "stdout",
          "text": [
            "Enter the value of numerator: 6\n",
            "Enter the value of denominator: 4\n",
            "Enter the value of numerator: 9\n",
            "Enter the value of denominator: 5\n",
            "\n",
            "Fraction1:  6/4\n",
            "Fraction2:  9/5\n"
          ]
        }
      ]
    },
    {
      "cell_type": "code",
      "source": [
        "# 10. Demonstrate operator overloading by creating a class Vector and overriding the add method to add two\n",
        "# vectors.\n",
        "\n",
        "class Vector:\n",
        "  def __init__(self,x,y):\n",
        "    self.x=x\n",
        "    self.y=y\n",
        "\n",
        "  def __add__(self,oth):\n",
        "    return [self.x+oth.x , self.y+oth.y]\n",
        "\n",
        "b1=Vector(2,6)\n",
        "b2=Vector(3,5)\n",
        "\n",
        "print(b1+b2)"
      ],
      "metadata": {
        "colab": {
          "base_uri": "https://localhost:8080/"
        },
        "id": "309RIuHk58Md",
        "outputId": "f1b0fafe-e9d1-40ce-967f-d666b26f9c55"
      },
      "execution_count": 13,
      "outputs": [
        {
          "output_type": "stream",
          "name": "stdout",
          "text": [
            "[5, 11]\n"
          ]
        }
      ]
    },
    {
      "cell_type": "code",
      "source": [
        "# 11. Create a class Person with attributes name and age. Add a method greet() that prints \"Hello, my name is\n",
        "# {name} and I am {age} years old.\"\n",
        "class Person:\n",
        "  def __init__(self):\n",
        "    self.name=input(\"Enter Your name: \")\n",
        "    self.age=int(input(\"Enter your Age: \"))\n",
        "\n",
        "  def greet(self):\n",
        "    print(f\"Hello, my name is {self.name} and I am {self.age} years old.\")\n",
        "\n",
        "\n",
        "print(\"Person1: \")\n",
        "p1=Person()\n",
        "p1.greet()\n",
        "\n",
        "\n",
        "print(\"\\nPerson2: \")\n",
        "p2=Person()\n",
        "p2.greet()"
      ],
      "metadata": {
        "colab": {
          "base_uri": "https://localhost:8080/"
        },
        "id": "6Y-dBmTl58Pc",
        "outputId": "da43e26d-388b-4e9a-ea39-03f09595c0c8"
      },
      "execution_count": 14,
      "outputs": [
        {
          "output_type": "stream",
          "name": "stdout",
          "text": [
            "Person1: \n",
            "Enter Your name: Hitesh\n",
            "Enter your Age: 24\n",
            "Hello, my name is Hitesh and I am 24 years old.\n",
            "\n",
            "Person2: \n",
            "Enter Your name: Chiku\n",
            "Enter your Age: 22\n",
            "Hello, my name is Chiku and I am 22 years old.\n"
          ]
        }
      ]
    },
    {
      "cell_type": "code",
      "source": [
        "# 12. Implement a class Student with attributes name and grades. Create a method average_grade() to compute\n",
        "# the average of the grades.\n",
        "\n",
        "class Student:\n",
        "  def __init__(self,name,grade):\n",
        "    self.name=name\n",
        "    self.grade=grade\n",
        "\n",
        "  def average_grade(self):\n",
        "    self.avg=sum(self.grade)//len(self.grade)\n",
        "    print(f\"student name : {self.name} \\nthe average of the grades out of 100 is : {self.avg}\" )\n",
        "\n",
        "\n",
        "print(\"Student1: \")\n",
        "s1=Student(\"Ram\",[80,98,78,98])\n",
        "s1.average_grade()\n",
        "\n",
        "\n",
        "print(\"\\nStudent2: \")\n",
        "s1=Student(\"hella\",[88,92,89,98])\n",
        "s1.average_grade()"
      ],
      "metadata": {
        "colab": {
          "base_uri": "https://localhost:8080/"
        },
        "id": "uJWzyHT86E1Q",
        "outputId": "1ca70b8c-c528-4405-df1e-a0189765c6f1"
      },
      "execution_count": 2,
      "outputs": [
        {
          "output_type": "stream",
          "name": "stdout",
          "text": [
            "Student1: \n",
            "student name : Ram \n",
            "the average of the grades out of 100 is : 88\n",
            "\n",
            "Student2: \n",
            "student name : hella \n",
            "the average of the grades out of 100 is : 91\n"
          ]
        }
      ]
    },
    {
      "cell_type": "code",
      "source": [
        "# 13. Create a class Rectangle with methods set_dimensions() to set the dimensions and area() to calculate the\n",
        "# area.\n",
        "\n",
        "class Rectangle:\n",
        "  def __init__(self):\n",
        "    self.l=0\n",
        "    self.w=0\n",
        "  def set_dimensions(self):\n",
        "    l=int(input(\"enter the length of Rectangle: \"))\n",
        "    w=int(input(\"enter the width of Rectangle: \"))\n",
        "    self.l=l\n",
        "    self.w=w\n",
        "\n",
        "  def area(self):\n",
        "    self.area=self.l*self.w\n",
        "    print(\"Area of Rectangle is : \",self.area,\" cm**2\")\n",
        "\n",
        "print(\"Rectangle1: \")\n",
        "r1=Rectangle()\n",
        "r1.set_dimensions()\n",
        "r1.area()\n",
        "\n",
        "\n",
        "print(\"\\nRectangle2: \")\n",
        "r2=Rectangle()\n",
        "r2.set_dimensions()\n",
        "r2.area()"
      ],
      "metadata": {
        "colab": {
          "base_uri": "https://localhost:8080/"
        },
        "id": "nd643O-B6E4J",
        "outputId": "fabe400f-616f-4201-e76d-926580a15cfa"
      },
      "execution_count": 33,
      "outputs": [
        {
          "output_type": "stream",
          "name": "stdout",
          "text": [
            "Rectangle1: \n",
            "enter the length of Rectangle: 8\n",
            "enter the width of Rectangle: 6\n",
            "Area of Rectangle is :  48  cm**2\n",
            "\n",
            "Rectangle2: \n",
            "enter the length of Rectangle: 8\n",
            "enter the width of Rectangle: 4\n",
            "Area of Rectangle is :  32  cm**2\n"
          ]
        }
      ]
    },
    {
      "cell_type": "code",
      "source": [
        "# 14. Create a class Employee with a method calculate_salary() that computes the salary based on hours worked\n",
        "# and hourly rate. Create a derived class Manager that adds a bonus to the salary.\n",
        "\n",
        "\n",
        "class Employee:\n",
        "  def __init__(self):\n",
        "    self.name=input(\"Enter your name: \")\n",
        "    self.hours_work=int(input( \"enter the Working hours: \"))\n",
        "    self.hourly_rate=int(input( \"enter the hourly rate: \"))\n",
        "\n",
        "  def calculate_salary(self):\n",
        "    salary=self.hours_work*self.hourly_rate\n",
        "    return salary\n",
        "\n",
        "class Manager(Employee):\n",
        "  def __init__(self):\n",
        "    super().__init__()\n",
        "    self.bonus=int(input( \"Enter the Bonus Amount: \"))\n",
        "\n",
        "  def calculate_salary(self):\n",
        "    base_salary=super().calculate_salary()\n",
        "    Salary=self.bonus+base_salary\n",
        "    print(f\"\\nname : {self.name} \\nSalary: {Salary} rs\")\n",
        "\n",
        "\n",
        "\n",
        "print(\"Emplyoee1\")\n",
        "e1=Manager()\n",
        "e1.calculate_salary()\n",
        "\n",
        "\n",
        "\n",
        "print(\"\\nEmplyoee2\")\n",
        "e2=Manager()\n",
        "e2.calculate_salary()\n",
        "\n",
        "\n"
      ],
      "metadata": {
        "colab": {
          "base_uri": "https://localhost:8080/"
        },
        "id": "op_PPxg_bLi-",
        "outputId": "1141e532-83b2-48cc-fcd2-7f7814be8e43"
      },
      "execution_count": 6,
      "outputs": [
        {
          "output_type": "stream",
          "name": "stdout",
          "text": [
            "Emplyoee1\n",
            "Enter your name: Atharav\n",
            "enter the Working hours: 180\n",
            "enter the hourly rate: 160\n",
            "Enter the Bonus Amount: 5000\n",
            "\n",
            "name : Atharav \n",
            "Salary: 33800 rs\n",
            "\n",
            "Emplyoee2\n",
            "Enter your name: Geeta\n",
            "enter the Working hours: 185\n",
            "enter the hourly rate: 165\n",
            "Enter the Bonus Amount: 4000\n",
            "\n",
            "name : Geeta \n",
            "Salary: 34525 rs\n"
          ]
        }
      ]
    },
    {
      "cell_type": "code",
      "source": [
        "# 15. Create a class Product with attributes name, price, and quantity. Implement a method total_price() that\n",
        "# calculates the total price of the product.\n",
        "\n",
        "class Product:\n",
        "  def __init__(self):\n",
        "    self.name=input(\"Enter the Product name:  \")\n",
        "    self.price=float(input(\"Enter the Price per product: \"))\n",
        "    self.quantity=int(input(\"enter the quantity: \"))\n",
        "\n",
        "  def Total_price(self):\n",
        "    print(\"\\nproduct name: \",self.name,\"\\nTotal Price is: \",self.price*self.quantity)\n",
        "\n",
        "\n",
        "print(\"Details of product1:\")\n",
        "product1=Product()\n",
        "product1.Total_price()\n",
        "\n",
        "print(\"\\n\\nDetails of product2:\")\n",
        "product2=Product()\n",
        "product2.Total_price()"
      ],
      "metadata": {
        "colab": {
          "base_uri": "https://localhost:8080/"
        },
        "id": "NPgMIYkebL8M",
        "outputId": "7505cd9d-b218-4a0d-e709-acc86270090c"
      },
      "execution_count": 34,
      "outputs": [
        {
          "output_type": "stream",
          "name": "stdout",
          "text": [
            "Details of product1:\n",
            "Enter the Product name:  steel rod\n",
            "Enter the Price per product: 60\n",
            "enter the quantity: 5\n",
            "\n",
            "product name:  steel rod \n",
            "Total Price is:  300.0\n",
            "\n",
            "\n",
            "Details of product2:\n",
            "Enter the Product name:  bag\n",
            "Enter the Price per product: 250\n",
            "enter the quantity: 3\n",
            "\n",
            "product name:  bag \n",
            "Total Price is:  750.0\n"
          ]
        }
      ]
    },
    {
      "cell_type": "code",
      "source": [
        "# 16. Create a class Animal with an abstract method sound(). Create two derived classes Cow and Sheep that\n",
        "# implement the sound() method.\n",
        "\n",
        "import abc as a\n",
        "\n",
        "class Animal:\n",
        "  @a.abstractmethod\n",
        "  def sound(self):\n",
        "    pass\n",
        "\n",
        "\n",
        "class Cow(Animal):\n",
        "  def sound(self):\n",
        "    print(\"Cow sound : moww moww \")\n",
        "\n",
        "class Sheep(Animal):\n",
        "  def sound(self):\n",
        "    print(\"sheep sound : maa maa \")\n",
        "\n",
        "c1=Cow()\n",
        "c1.sound()\n",
        "\n",
        "c2=Sheep()\n",
        "c2.sound()\n",
        "\n",
        "\n",
        "\n",
        "\n"
      ],
      "metadata": {
        "colab": {
          "base_uri": "https://localhost:8080/"
        },
        "id": "Sy8c-5yPg2AN",
        "outputId": "49593b82-f7ed-40a5-88b4-cb531dbfce58"
      },
      "execution_count": 36,
      "outputs": [
        {
          "output_type": "stream",
          "name": "stdout",
          "text": [
            "Cow sound : moww moww \n",
            "sheep sound : maa maa \n"
          ]
        }
      ]
    },
    {
      "cell_type": "code",
      "source": [
        "# 17. Create a class Book with attributes title, author, and year_published. Add a method get_book_info() that\n",
        "# returns a formatted string with the book's details.\n",
        "\n",
        "class Book:\n",
        "  def get_book_info(self):\n",
        "    self.title=input(\"Enter the tithe : \")\n",
        "    self.author=input(\"Enter the Auther Name: \")\n",
        "    self.year_published=int(input(\"Enter the Year_Puplished: \"))\n",
        "\n",
        "  def __repr__(self):\n",
        "       return f\"\\ntitle: '{self.title}' Author Name: '{self.author}' year_Published: '{self.year_published}'\"\n",
        "\n",
        "\n",
        "print(\"Book1 Details: \")\n",
        "book1=Book()\n",
        "book1.get_book_info()\n",
        "print(book1)\n",
        "\n",
        "print(\"\\nBook2 Details: \")\n",
        "\n",
        "book2=Book()\n",
        "book2.get_book_info()\n",
        "print(book2)"
      ],
      "metadata": {
        "colab": {
          "base_uri": "https://localhost:8080/"
        },
        "id": "XYTJshupg2CY",
        "outputId": "ce4ffc35-4610-40ec-99db-47b492323be7"
      },
      "execution_count": 6,
      "outputs": [
        {
          "output_type": "stream",
          "name": "stdout",
          "text": [
            "Book1 Details: \n",
            "Enter the tithe : Data Science\n",
            "Enter the Auther Name: V.P Varma\n",
            "Enter the Year_Puplished: 2017\n",
            "\n",
            "title: 'Data Science' Author Name: 'V.P Varma' year_Published: '2017'\n",
            "\n",
            "Book2 Details: \n",
            "Enter the tithe : Microwave\n",
            "Enter the Auther Name: J.P Kulkarni\n",
            "Enter the Year_Puplished: 2009\n",
            "\n",
            "title: 'Microwave' Author Name: 'J.P Kulkarni' year_Published: '2009'\n"
          ]
        }
      ]
    },
    {
      "cell_type": "code",
      "source": [
        "# 18. Create a class House with attributes address and price. Create a derived class Mansion that adds an\n",
        "# attribute number_of_rooms.\n",
        "\n",
        "class House:\n",
        "  def __init__(self):\n",
        "    self.address=input(\"Enter your address: \")\n",
        "    self.price=float(input(\"enter the price of property: \"))\n",
        "\n",
        "class Mansion(House):\n",
        "  def __init__(self):\n",
        "    super().__init__()\n",
        "    self.no_of_rooms=int(input(\"Enter the number of rooms: \"))\n",
        "\n",
        "\n",
        "  def __repr__(self):\n",
        "    return f\"\\nAddress: {self.address} \\nPrice_of_House: {self.price} rs  \\nNO_Of_Rooms: {self.no_of_rooms}\"\n",
        "\n",
        "\n",
        "\n",
        "m1=Mansion()\n",
        "print(m1)\n",
        "\n",
        "\n"
      ],
      "metadata": {
        "colab": {
          "base_uri": "https://localhost:8080/"
        },
        "id": "FcrjKm4mg2Ep",
        "outputId": "923bdcc8-8980-4a11-954d-b3ec167c5f4d"
      },
      "execution_count": 11,
      "outputs": [
        {
          "output_type": "stream",
          "name": "stdout",
          "text": [
            "Enter your address: Jk street lane 2 , house no 7, pune 411057\n",
            "enter the price of property: 4500000\n",
            "Enter the number of rooms: 4\n",
            "\n",
            "Address: Jk street lane 2 , house no 7, pune 411057 \n",
            "Price_of_House: 4500000.0 rs  \n",
            "NO_Of_Rooms: 4\n"
          ]
        }
      ]
    }
  ]
}