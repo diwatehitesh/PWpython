{
  "nbformat": 4,
  "nbformat_minor": 0,
  "metadata": {
    "colab": {
      "provenance": []
    },
    "kernelspec": {
      "name": "python3",
      "display_name": "Python 3"
    },
    "language_info": {
      "name": "python"
    }
  },
  "cells": [
    {
      "cell_type": "markdown",
      "source": [
        "1) What is Python, and why is it popular?\n",
        "   - Python is a high-level, versatile and Integrated programming language known for its simple syntax, readability, and broad use in web development, data analysis, AI,Big-data, deep learning , machine learning and more.\n",
        "     \n",
        "       --\n",
        "\n",
        "2) What is an interpreter in Python?\n",
        "   - An interpreter executes Python code line by line manner , converting it into machine-readable instructions.\n",
        "\n",
        "    --\n",
        "\n",
        "3) What are pre-defined keywords in Python?\n",
        "   - Keywords are special reserved words with specific meanings and functions in Python.\n",
        "   (like if, else, while, def , class.....etc)\n",
        "\n",
        "     --\n",
        "\n",
        "4) Can keywords be used as variable names?\n",
        "   - No, keywords cannot be used as variable names because they are reserved.\n",
        "\n",
        "     --\n",
        "\n",
        "5) What is mutability in Python?\n",
        "   - Mutability refers to whether an object’s or variable value can be changed\n",
        "     after creation.\n",
        "     Mutable objects or variable value can be change after there creation.\n",
        "\n",
        "       --\n",
        "\n",
        "6) Why are lists mutable, but tuples are immutable?\n",
        "   - Lists allow mutability or modifications (like adding/removing data\n",
        "     elements),\n",
        "     while tuples are fixed like once it created it cant be modified and ensure data integrity.\n",
        "\n",
        "       --\n",
        "\n",
        "7) What is the difference between == and is operators in Python?\n",
        "   - '==' checks value equality.\n",
        "     'is' checks if two objects (variables) have the same memory location.\n",
        "\n",
        "       --\n",
        "\n",
        "8) What are logical operators in Python?\n",
        "   - Logical operators (and ('&'), or ('|'), not,Xor ('^') combine conditional statements.\n",
        "\n",
        "     --\n",
        "\n",
        "\n",
        "9) What is type casting in Python?\n",
        "   - Type casting means converting a variable from one data type to another, l\n",
        "     like int(\"123\") to convert a string to an integer.\n",
        "     There 2 types of type casting, 1) implicit type casting\n",
        "                                    2) explicit type casting\n",
        "\n",
        "     --\n",
        "    \n",
        "\n",
        "10) What is the difference between implicit and explicit type casting?\n",
        "   - Implicit casting is automatic and it is Lossless\n",
        "     casting,\n",
        "     e.g.  -\n",
        "             a= 10,\n",
        "             b=float(a)\n",
        "             print(b) = 10.0\n",
        "\n",
        "            \n",
        "\n",
        "     while explicit casting requires manual conversion and it may lossfull casting ,\n",
        "     e.g.  -\n",
        "             a= 10.5,\n",
        "             b=int(a)\n",
        "             print(b) = 10 (here data 0.5 got lost as its fraction value , as int doesnt contained fraction value).\n",
        "\n",
        "      --       \n",
        "\n",
        "\n",
        "11) What is the purpose of conditional statements in Python?\n",
        "   - Conditional statements control program flow based on conditions.\n",
        "     (e.g., if, else)\n",
        "\n",
        "       --\n",
        "\n",
        "\n",
        "\n",
        "12) How does the elif statement work?\n",
        "   - elif checks additional conditions after the initial if condition fails. It\n",
        "     executes its block if the condition is true.\n",
        "     e.g. -\n",
        "          a= 50\n",
        "          if a > 60:    (as here 'a' is not greater than 50 and initial 'if'  \n",
        "             continue    condition gets failed so it will go to next condition)\n",
        "             \n",
        "\n",
        "          elif a < 60:   ( It executes its block if the condition is true.)\n",
        "              print(\"hello\")    \n",
        "             \n",
        "\n",
        "         --    \n",
        "\n",
        "13) What is the difference between for and while loops?\n",
        "   - 'for' loops iterate over sequences;\n",
        "     'while' loops run until a condition is false.\n",
        "\n",
        "       --\n",
        "\n",
        "14) Describe a scenario where a while loop is more suitable than a for loop.\n",
        "   - we can Use a 'while' loop when the number of iterations depends on a\n",
        "     condition rather than a predefined range or sequence (e.g., reading user input until valid).\n",
        "\n",
        "       --"
      ],
      "metadata": {
        "id": "nQwqWy6TZOsh"
      }
    },
    {
      "cell_type": "code",
      "source": [
        "\n",
        "#1. Write a Python program to print \"Hello, World!\"\n",
        "\n",
        "print(\"Hello, World!\")\n",
        "\n"
      ],
      "metadata": {
        "colab": {
          "base_uri": "https://localhost:8080/"
        },
        "id": "M0U9-4bLACAc",
        "outputId": "9650274e-c9a5-4c41-a719-b9aa6d4ba2e5"
      },
      "execution_count": 8,
      "outputs": [
        {
          "output_type": "stream",
          "name": "stdout",
          "text": [
            "False\n"
          ]
        }
      ]
    },
    {
      "cell_type": "code",
      "source": [
        "#2. Write a Python program that displays your name and age.\n",
        "\n",
        "Name = input (\"Enter your name: \")\n",
        "Age = int(input(\"Enter your age: \"))\n",
        "\n",
        "print(\"\\nName: \",Name,\"\\nAge:  \",Age)"
      ],
      "metadata": {
        "colab": {
          "base_uri": "https://localhost:8080/"
        },
        "id": "P07NYPEkDkGg",
        "outputId": "11b2226d-1470-4277-a461-a05a9c94e664"
      },
      "execution_count": 14,
      "outputs": [
        {
          "output_type": "stream",
          "name": "stdout",
          "text": [
            "Enter your name: Hitesh\n",
            "Enter your age: 24\n",
            "\n",
            "Name:  Hitesh \n",
            "Age:   24\n"
          ]
        }
      ]
    },
    {
      "cell_type": "code",
      "source": [
        "\n",
        "#3. Write code to print all the pre-defined keywords in Python using the keyword library.\n",
        "\n",
        "import keyword as k\n",
        "\n",
        "print(\"Python Keywords:\")\n",
        "print(k.kwlist)\n",
        "\n",
        "\n"
      ],
      "metadata": {
        "colab": {
          "base_uri": "https://localhost:8080/"
        },
        "id": "KDtS3M5fEh8B",
        "outputId": "db7467a7-5db8-4df4-cc57-04d1891cb8b9"
      },
      "execution_count": 8,
      "outputs": [
        {
          "output_type": "stream",
          "name": "stdout",
          "text": [
            "Python Keywords:\n",
            "['False', 'None', 'True', 'and', 'as', 'assert', 'async', 'await', 'break', 'class', 'continue', 'def', 'del', 'elif', 'else', 'except', 'finally', 'for', 'from', 'global', 'if', 'import', 'in', 'is', 'lambda', 'nonlocal', 'not', 'or', 'pass', 'raise', 'return', 'try', 'while', 'with', 'yield']\n"
          ]
        }
      ]
    },
    {
      "cell_type": "code",
      "source": [
        "#4. Write a program that checks if a given word is a Python keyword\n",
        "\n",
        "import keyword as k\n",
        "\n",
        "Word = input(\"enter the word: \")\n",
        "\n",
        "if Word in k.kwlist:\n",
        "     print(Word,\" is a keyword\")\n",
        "else:\n",
        "    print(Word,\" is Not a keyword\")\n",
        "\n"
      ],
      "metadata": {
        "colab": {
          "base_uri": "https://localhost:8080/"
        },
        "id": "t1uiRwhnFcQm",
        "outputId": "1c547e16-5fcb-47b9-f94a-0fe44708f69f"
      },
      "execution_count": 35,
      "outputs": [
        {
          "output_type": "stream",
          "name": "stdout",
          "text": [
            "enter the word: True\n",
            "True  is a keyword\n"
          ]
        }
      ]
    },
    {
      "cell_type": "code",
      "source": [
        "# 5. Create a list and tuple in Python, and demonstrate how attempting to change an element works differently for each.\n",
        "\n",
        "Lst = [10,20,30]\n",
        "\n",
        "tup =(12,20,30)\n",
        "\n",
        "print(\" Before change\")\n",
        "print(Lst)\n",
        "print(tup)\n",
        "\n",
        "print(\"\\n After change\")\n",
        "\n",
        "Lst[1]=50 #changing data element at index 1 in list\n",
        "print(Lst)\n",
        "\n",
        "try:\n",
        "\n",
        "   tup[1]=50 #changing data element at index 1 in tuple and it will throw error as tuple is immutable\n",
        "except TypeError as e:\n",
        "  print(\"\\nError accured while modifying tuple:\",e)"
      ],
      "metadata": {
        "colab": {
          "base_uri": "https://localhost:8080/"
        },
        "id": "ggeRVThuK56r",
        "outputId": "032c9459-7430-499c-ab99-1a79ab604c56"
      },
      "execution_count": 41,
      "outputs": [
        {
          "output_type": "stream",
          "name": "stdout",
          "text": [
            " Before change\n",
            "[10, 20, 30]\n",
            "(12, 20, 30)\n",
            "\n",
            " After change\n",
            "[10, 50, 30]\n",
            "\n",
            "Error accured while modifying tuple: 'tuple' object does not support item assignment\n"
          ]
        }
      ]
    },
    {
      "cell_type": "code",
      "source": [
        "# 6. Write a function to demonstrate the behavior of mutable and immutable arguments.\n",
        "\n",
        "HD_list=[12,20,12.23,\"Hitesh\"]\n",
        "\n",
        "print(\"before change\\n\")\n",
        "print(\"list: \",HD_list)\n",
        "HD_list[0]=56\n",
        "HD_list[3]=\"aditya\"\n",
        "\n",
        "print(\"After change\")\n",
        "print(\"list: \",HD_list)\n",
        "\n",
        "# mutable object can change after its creation as seen in above\n",
        "\n",
        "\n",
        "HD_Str=\"wall\"\n",
        "print(\"string is: \",HD_Str)\n",
        "HD_Str[2]=\"j\"\n",
        "\n",
        "# Immutable object can't change after its creation as seen in above and it will throw error\n",
        "\n",
        "\n"
      ],
      "metadata": {
        "colab": {
          "base_uri": "https://localhost:8080/",
          "height": 315
        },
        "id": "cjUGV7Fk6qIq",
        "outputId": "076d451c-97f8-4243-cbc5-94a25f87fc84"
      },
      "execution_count": 3,
      "outputs": [
        {
          "output_type": "stream",
          "name": "stdout",
          "text": [
            "before change\n",
            "\n",
            "list:  [12, 20, 12.23, 'Hitesh']\n",
            "After change\n",
            "list:  [56, 20, 12.23, 'aditya']\n",
            "string is:  wall\n"
          ]
        },
        {
          "output_type": "error",
          "ename": "TypeError",
          "evalue": "'str' object does not support item assignment",
          "traceback": [
            "\u001b[0;31m---------------------------------------------------------------------------\u001b[0m",
            "\u001b[0;31mTypeError\u001b[0m                                 Traceback (most recent call last)",
            "\u001b[0;32m<ipython-input-3-1f5aca0cdc11>\u001b[0m in \u001b[0;36m<cell line: 18>\u001b[0;34m()\u001b[0m\n\u001b[1;32m     16\u001b[0m \u001b[0mHD_Str\u001b[0m\u001b[0;34m=\u001b[0m\u001b[0;34m\"wall\"\u001b[0m\u001b[0;34m\u001b[0m\u001b[0;34m\u001b[0m\u001b[0m\n\u001b[1;32m     17\u001b[0m \u001b[0mprint\u001b[0m\u001b[0;34m(\u001b[0m\u001b[0;34m\"string is: \"\u001b[0m\u001b[0;34m,\u001b[0m\u001b[0mHD_Str\u001b[0m\u001b[0;34m)\u001b[0m\u001b[0;34m\u001b[0m\u001b[0;34m\u001b[0m\u001b[0m\n\u001b[0;32m---> 18\u001b[0;31m \u001b[0mHD_Str\u001b[0m\u001b[0;34m[\u001b[0m\u001b[0;36m2\u001b[0m\u001b[0;34m]\u001b[0m\u001b[0;34m=\u001b[0m\u001b[0;34m\"j\"\u001b[0m\u001b[0;34m\u001b[0m\u001b[0;34m\u001b[0m\u001b[0m\n\u001b[0m\u001b[1;32m     19\u001b[0m \u001b[0;34m\u001b[0m\u001b[0m\n\u001b[1;32m     20\u001b[0m \u001b[0;31m# Immutable object can't change after its creation as seen in above and it will throw error\u001b[0m\u001b[0;34m\u001b[0m\u001b[0;34m\u001b[0m\u001b[0m\n",
            "\u001b[0;31mTypeError\u001b[0m: 'str' object does not support item assignment"
          ]
        }
      ]
    },
    {
      "cell_type": "code",
      "source": [
        "\n",
        "# 7. Write a function to demonstrate the behavior of mutable and immutable arguments.\n",
        "\n",
        "# (doing it with function)\n",
        "\n",
        "def modification(mutable,immutable):\n",
        "  mutable.append(15)\n",
        "  print(\"\\nPrinting list after appending\")\n",
        "  print(mutable)\n",
        "\n",
        "  immutable+=15\n",
        "  print(\"\\nPrinting immutable element after modification\")\n",
        "  print(immutable)\n",
        "\n",
        "\n",
        "\n",
        "\n",
        "NUM_list=[12,13,14]\n",
        "NUM=12\n",
        "\n",
        "print(\"Before function call\\n\")\n",
        "print(\"Mutable: \",NUM_list)\n",
        "print(\"Immutable: \",NUM)\n",
        "\n",
        "modification(NUM_list,NUM)\n",
        "\n",
        "print(\"\\n\\nAfter function call\\n\")\n",
        "print(\"Mutable: \",NUM_list) #call By value as changes within the function effects on final object value.\n",
        "print(\"Immutable: \",NUM) #call by reference as changes within the function does not effects on final object value."
      ],
      "metadata": {
        "colab": {
          "base_uri": "https://localhost:8080/"
        },
        "id": "EpEtHCq5QWZo",
        "outputId": "acdce7b6-7028-425b-90cb-54fe995cf014"
      },
      "execution_count": 46,
      "outputs": [
        {
          "output_type": "stream",
          "name": "stdout",
          "text": [
            "before function call\n",
            "\n",
            "Mutable:  [12, 13, 14]\n",
            "Immutable:  12\n",
            "\n",
            "Printing list after appending\n",
            "[12, 13, 14, 15]\n",
            "\n",
            "Printing immutable element after modification\n",
            "27\n",
            "\n",
            "\n",
            "After function call\n",
            "\n",
            "Mutable:  [12, 13, 14, 15]\n",
            "Immutable:  12\n"
          ]
        }
      ]
    },
    {
      "cell_type": "code",
      "source": [
        "# 8. Write a program to demonstrate the use of logical operators.\n",
        "\n",
        "# Input values\n",
        "a = True\n",
        "b = False\n",
        "c = 5\n",
        "d = 10\n",
        "\n",
        "\n",
        "print(\"Logical AND:\")\n",
        "print(\"a and b:\", a and b)  # False\n",
        "print(\"c > 2 and d > 8:\", c > 2 and d > 8)  # True\n",
        "\n",
        "\n",
        "print(\"\\nLogical OR:\")\n",
        "print(\"a or b:\", a or b)  # True\n",
        "print(\"c < 2 or d > 8:\", c < 2 or d > 8)  # True\n",
        "\n",
        "\n",
        "print(\"\\nLogical NOT:\")\n",
        "print(\"not a:\", not a)  # False\n",
        "print(\"not b:\", not b)  # True\n",
        "\n",
        "print(\"\\nLogical XOR:\")\n",
        "print(\"a ^ b:\", a ^ b)  # True\n",
        "o= c > 2\n",
        "p= d > 8\n",
        "print(\"o ^ p\", o  ^  p)  # False\n",
        "\n",
        "\n",
        "\n"
      ],
      "metadata": {
        "colab": {
          "base_uri": "https://localhost:8080/"
        },
        "id": "DvKqfQgAUKIQ",
        "outputId": "59c43ab4-88a9-4a86-d794-6b9fc67215cc"
      },
      "execution_count": 63,
      "outputs": [
        {
          "output_type": "stream",
          "name": "stdout",
          "text": [
            "Logical AND:\n",
            "a and b: False\n",
            "c > 2 and d > 8: True\n",
            "\n",
            "Logical OR:\n",
            "a or b: True\n",
            "c < 2 or d > 8: True\n",
            "\n",
            "Logical NOT:\n",
            "not a: False\n",
            "not b: True\n",
            "\n",
            "Logical XOR:\n",
            "a ^ b: True\n",
            "o ^ p False\n"
          ]
        }
      ]
    },
    {
      "cell_type": "code",
      "source": [
        "# 9. Write a Python program to convert user input from string to integer, float, and boolean types.\n",
        "\n",
        "User_input = input(\"Enter Your Input: \")\n",
        "\n",
        "try:\n",
        "    User_int=int(User_input)\n",
        "except ValueError:\n",
        "    print(\"coversion not possible\")\n",
        "\n",
        "try:\n",
        "     User_float=float(User_input)\n",
        "except ValueError:\n",
        "    print(\"coversion not possible\")\n",
        "\n",
        "User_Boolean=bool(User_input.strip())\n",
        "\n",
        "print(\"User Input: \",User_input,type(User_input))\n",
        "\n",
        "print(\"\\nAfter Type casting\\n\")\n",
        "print(\"User_int: \",User_int,type(User_int),\"\\nUset_float: \",User_float,type(User_float),\"\\nUser_boolean: \",User_Boolean,type(User_Boolean))"
      ],
      "metadata": {
        "colab": {
          "base_uri": "https://localhost:8080/"
        },
        "id": "JOcBVZ8eYulu",
        "outputId": "10b405e9-926c-4818-a17e-d8e04be1ea60"
      },
      "execution_count": 75,
      "outputs": [
        {
          "output_type": "stream",
          "name": "stdout",
          "text": [
            "Enter Your Input: 55\n",
            "User Input:  55 <class 'str'>\n",
            "\n",
            "After Type casting\n",
            "\n",
            "User_int:  55 <class 'int'> \n",
            "Uset_float:  55.0 <class 'float'> \n",
            "User_boolean:  True <class 'bool'>\n"
          ]
        }
      ]
    },
    {
      "cell_type": "code",
      "source": [
        "# 10. Write code to demonstrate type casting with list elements.\n",
        "\n",
        "Given_list=[12,20,3.9,\"2\",\"4\"]\n",
        "\n",
        "int_list= [int(x) for x in Given_list]\n",
        "float_list= [float(x) for x in Given_list ]\n",
        "bool_list= [bool(x) for x in Given_list ]\n",
        "string_list= [str(x) for x in Given_list]\n",
        "\n",
        "print(\"Given_list: \",Given_list)\n",
        "\n",
        "print(\"\\n After Type-Casting\\n\")\n",
        "print(\"int_list: \",int_list)\n",
        "print(\"float_list: \",float_list)\n",
        "print(\"bool_list: \",bool_list)\n",
        "print(\"string_list: \",str_list)\n",
        "\n"
      ],
      "metadata": {
        "colab": {
          "base_uri": "https://localhost:8080/"
        },
        "id": "xkTSAVqEsVDH",
        "outputId": "648f8963-24c4-4006-be51-67587148260b"
      },
      "execution_count": 19,
      "outputs": [
        {
          "output_type": "stream",
          "name": "stdout",
          "text": [
            "Given_list:  [12, 20, 3.9, '2', '4']\n",
            "\n",
            " After Type-Casting\n",
            "\n",
            "int_list:  [12, 20, 3, 2, 4]\n",
            "float_list:  [12.0, 20.0, 3.9, 2.0, 4.0]\n",
            "bool_list:  [True, True, True, True, True]\n",
            "string_list:  ['1', '2.5', '3', '4']\n"
          ]
        }
      ]
    },
    {
      "cell_type": "code",
      "source": [
        "# 11. Write a program that checks if a number is positive, negative, or zero.\n",
        "\n",
        "User_input= float(input(\"Enter the number: \"))\n",
        "\n",
        "if User_input == 0:\n",
        "  print(User_input,\" is a zero\")\n",
        "elif User_input > 0:\n",
        "  print(User_input,\" is a Positive Number\")\n",
        "elif User_input < 0:\n",
        "   print(User_input,\" is a Negative Number\")\n",
        "else:\n",
        "  print(\"invalid input\")"
      ],
      "metadata": {
        "colab": {
          "base_uri": "https://localhost:8080/"
        },
        "id": "EMYEDk3wclA-",
        "outputId": "72fba54e-d869-4f62-adbe-92c1370daba2"
      },
      "execution_count": 79,
      "outputs": [
        {
          "output_type": "stream",
          "name": "stdout",
          "text": [
            "Enter the number: 00\n",
            "0.0  is a zero\n"
          ]
        }
      ]
    },
    {
      "cell_type": "code",
      "source": [
        "# 12. Write a for loop to print numbers from 1 to 10.\n",
        "\n",
        "for num in range(1,11):\n",
        "  print(num,end=\" \")"
      ],
      "metadata": {
        "colab": {
          "base_uri": "https://localhost:8080/"
        },
        "id": "lYqA5OHwduIL",
        "outputId": "225c55b2-459e-4083-b093-9faac55342e3"
      },
      "execution_count": 82,
      "outputs": [
        {
          "output_type": "stream",
          "name": "stdout",
          "text": [
            "1 2 3 4 5 6 7 8 9 10 "
          ]
        }
      ]
    },
    {
      "cell_type": "code",
      "source": [
        "\n",
        "# 13. Write a Python program to find the sum of all even numbers between 1 and 50.\n",
        "\n",
        "#1st way\n",
        "sum=0\n",
        "\n",
        "print(\"Even Numbers are: \")\n",
        "for num in range (2,51,2):\n",
        "    print(num,end=\" \")\n",
        "    sum+=num\n",
        "\n",
        "\n",
        "print(\"\\nsum of all even numbers between 1 and 50 is : \",sum)\n",
        "\n",
        "# 2nd way (input from user with even checking logic)\n",
        "\n",
        "user_input=int(input(\"\\n\\nenter the end number to find even number: \"))\n",
        "sum=0\n",
        "\n",
        "print(\"\\nEven Numbers are: \")\n",
        "for num in range (1,user_input+1):  # also use as (2,num+1,2) in such case no need to use 'if'\n",
        "  if num%2==0:\n",
        "    print(num,end=\" \")\n",
        "    sum+=num\n",
        "\n",
        "\n",
        "print(\"\\n\\nsum of all even numbers between 1 and 50 is : \",sum)\n",
        "\n",
        "\n"
      ],
      "metadata": {
        "colab": {
          "base_uri": "https://localhost:8080/"
        },
        "id": "_yOLDacdeC0E",
        "outputId": "13235b83-64cc-4a88-e0dd-7e6f9b8fec80"
      },
      "execution_count": 92,
      "outputs": [
        {
          "output_type": "stream",
          "name": "stdout",
          "text": [
            "Even Numbers are: \n",
            "2 4 6 8 10 12 14 16 18 20 22 24 26 28 30 32 34 36 38 40 42 44 46 48 50 \n",
            "sum of all even numbers between 1 and 50 is :  650\n",
            "\n",
            "\n",
            "enter the end number to find even number: 100\n",
            "\n",
            "Even Numbers are: \n",
            "2 4 6 8 10 12 14 16 18 20 22 24 26 28 30 32 34 36 38 40 42 44 46 48 50 52 54 56 58 60 62 64 66 68 70 72 74 76 78 80 82 84 86 88 90 92 94 96 98 100 \n",
            "\n",
            "sum of all even numbers between 1 and 50 is :  2550\n"
          ]
        }
      ]
    },
    {
      "cell_type": "code",
      "source": [
        "\n",
        "# 14. Write a program to reverse a string using a while loop\n",
        "\n",
        "Input=input(\"Enter your String: \")\n",
        "\n",
        "Rev_String=\" \"\n",
        "\n",
        "Counter=len(Input)-1\n",
        "\n",
        "while (Counter >= 0):\n",
        "  Rev_String+=Input[Counter]\n",
        "  Counter-=1\n",
        "\n",
        "\n",
        "print(\"\\nMain String is: \",Input)\n",
        "\n",
        "print(\"Reversed String is:\",Rev_String)\n",
        "\n"
      ],
      "metadata": {
        "colab": {
          "base_uri": "https://localhost:8080/"
        },
        "id": "MM0BfL0PfPuO",
        "outputId": "1546dd0a-56d7-4914-88cf-6396b5aa9f17"
      },
      "execution_count": 102,
      "outputs": [
        {
          "output_type": "stream",
          "name": "stdout",
          "text": [
            "Enter your String: Virat Kohli\n",
            "\n",
            "Main String is:  Virat Kohli\n",
            "Reversed String is:  ilhoK tariV\n"
          ]
        }
      ]
    },
    {
      "cell_type": "code",
      "source": [
        " #  15. Write a Python program to calculate the factorial of a number provided by the user using a while loop.\n",
        "\n",
        "Input=int(input(\"Enter the Name: \"))\n",
        "fact=1\n",
        "counter=1\n",
        "\n",
        "while counter<=Input:\n",
        "  fact*=counter\n",
        "  counter+=1\n",
        "\n",
        "\n",
        "print(\"the factorial of {} is: {}\".format(Input,fact))\n",
        "\n"
      ],
      "metadata": {
        "colab": {
          "base_uri": "https://localhost:8080/"
        },
        "id": "omW9L8mokydG",
        "outputId": "4682f0c2-af38-47ef-aa8a-509e65c6818f"
      },
      "execution_count": 104,
      "outputs": [
        {
          "output_type": "stream",
          "name": "stdout",
          "text": [
            "Enter the Name: 5\n",
            "the factorial of 5 is: 120\n"
          ]
        }
      ]
    }
  ]
}